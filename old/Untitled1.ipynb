{
 "cells": [
  {
   "cell_type": "code",
   "execution_count": 3,
   "id": "357a6db8-75ea-4157-8de7-007f9cebf6a8",
   "metadata": {},
   "outputs": [],
   "source": [
    "from bs4 import BeautifulSoup as bs\n",
    "import requests"
   ]
  },
  {
   "cell_type": "code",
   "execution_count": 2,
   "id": "be6968f5-b291-4bed-b7e2-d0fa5d31495a",
   "metadata": {},
   "outputs": [],
   "source": [
    "link = 'https://moxfield.com/decks/ZOfipmZjvkSbkabnSIqswA'"
   ]
  },
  {
   "cell_type": "code",
   "execution_count": 6,
   "id": "8f33380c-481d-40c3-b116-0b1b9d6f3efc",
   "metadata": {},
   "outputs": [],
   "source": [
    "mox = requests.get(link)"
   ]
  },
  {
   "cell_type": "code",
   "execution_count": 7,
   "id": "a529ab4d-88a2-4794-8c58-79c1d91c1f8a",
   "metadata": {},
   "outputs": [
    {
     "data": {
      "text/plain": [
       "403"
      ]
     },
     "execution_count": 7,
     "metadata": {},
     "output_type": "execute_result"
    }
   ],
   "source": [
    "mox.status_code"
   ]
  },
  {
   "cell_type": "code",
   "execution_count": null,
   "id": "937c1338-ddfd-4303-ac3d-e8af7df7a7d5",
   "metadata": {},
   "outputs": [],
   "source": []
  }
 ],
 "metadata": {
  "kernelspec": {
   "display_name": "Python 3 (ipykernel)",
   "language": "python",
   "name": "python3"
  },
  "language_info": {
   "codemirror_mode": {
    "name": "ipython",
    "version": 3
   },
   "file_extension": ".py",
   "mimetype": "text/x-python",
   "name": "python",
   "nbconvert_exporter": "python",
   "pygments_lexer": "ipython3",
   "version": "3.11.5"
  }
 },
 "nbformat": 4,
 "nbformat_minor": 5
}
