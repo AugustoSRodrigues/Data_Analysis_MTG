{
 "cells": [
  {
   "cell_type": "code",
   "execution_count": 1,
   "id": "467bf02c-d56e-44e0-a916-9c2893514c73",
   "metadata": {},
   "outputs": [],
   "source": [
    "import pandas as pd\n",
    "import re\n",
    "import numpy as np"
   ]
  },
  {
   "cell_type": "code",
   "execution_count": 2,
   "id": "395be5e4-d9cf-456f-832e-309de76ad4cc",
   "metadata": {},
   "outputs": [
    {
     "data": {
      "text/html": [
       "<div>\n",
       "<style scoped>\n",
       "    .dataframe tbody tr th:only-of-type {\n",
       "        vertical-align: middle;\n",
       "    }\n",
       "\n",
       "    .dataframe tbody tr th {\n",
       "        vertical-align: top;\n",
       "    }\n",
       "\n",
       "    .dataframe thead th {\n",
       "        text-align: right;\n",
       "    }\n",
       "</style>\n",
       "<table border=\"1\" class=\"dataframe\">\n",
       "  <thead>\n",
       "    <tr style=\"text-align: right;\">\n",
       "      <th></th>\n",
       "      <th>name</th>\n",
       "      <th>multiverse_id</th>\n",
       "      <th>layout</th>\n",
       "      <th>names</th>\n",
       "      <th>mana_cost</th>\n",
       "      <th>cmc</th>\n",
       "      <th>colors</th>\n",
       "      <th>color_identity</th>\n",
       "      <th>type</th>\n",
       "      <th>supertypes</th>\n",
       "      <th>...</th>\n",
       "      <th>foreign_names</th>\n",
       "      <th>printings</th>\n",
       "      <th>original_text</th>\n",
       "      <th>original_type</th>\n",
       "      <th>legalities</th>\n",
       "      <th>source</th>\n",
       "      <th>image_url</th>\n",
       "      <th>set</th>\n",
       "      <th>set_name</th>\n",
       "      <th>id</th>\n",
       "    </tr>\n",
       "  </thead>\n",
       "  <tbody>\n",
       "    <tr>\n",
       "      <th>0</th>\n",
       "      <td>Ancestor's Chosen</td>\n",
       "      <td>130550.0</td>\n",
       "      <td>normal</td>\n",
       "      <td>NaN</td>\n",
       "      <td>{5}{W}{W}</td>\n",
       "      <td>7.0</td>\n",
       "      <td>['W']</td>\n",
       "      <td>['W']</td>\n",
       "      <td>Creature — Human Cleric</td>\n",
       "      <td>NaN</td>\n",
       "      <td>...</td>\n",
       "      <td>[{'name': 'Ausgewählter der Ahnfrau', 'text': ...</td>\n",
       "      <td>['10E', 'JUD', 'UMA']</td>\n",
       "      <td>First strike\\nWhen Ancestor's Chosen comes int...</td>\n",
       "      <td>Creature - Human Cleric</td>\n",
       "      <td>[{'format': 'Commander', 'legality': 'Legal'},...</td>\n",
       "      <td>NaN</td>\n",
       "      <td>http://gatherer.wizards.com/Handlers/Image.ash...</td>\n",
       "      <td>10E</td>\n",
       "      <td>Tenth Edition</td>\n",
       "      <td>5f8287b1-5bb6-5f4c-ad17-316a40d5bb0c</td>\n",
       "    </tr>\n",
       "    <tr>\n",
       "      <th>1</th>\n",
       "      <td>Ancestor's Chosen</td>\n",
       "      <td>NaN</td>\n",
       "      <td>normal</td>\n",
       "      <td>NaN</td>\n",
       "      <td>{5}{W}{W}</td>\n",
       "      <td>7.0</td>\n",
       "      <td>['W']</td>\n",
       "      <td>['W']</td>\n",
       "      <td>Creature — Human Cleric</td>\n",
       "      <td>NaN</td>\n",
       "      <td>...</td>\n",
       "      <td>NaN</td>\n",
       "      <td>['10E', 'JUD', 'UMA']</td>\n",
       "      <td>NaN</td>\n",
       "      <td>NaN</td>\n",
       "      <td>[{'format': 'Commander', 'legality': 'Legal'},...</td>\n",
       "      <td>NaN</td>\n",
       "      <td>NaN</td>\n",
       "      <td>10E</td>\n",
       "      <td>Tenth Edition</td>\n",
       "      <td>b7c19924-b4bf-56fc-aa73-f586e940bd42</td>\n",
       "    </tr>\n",
       "    <tr>\n",
       "      <th>2</th>\n",
       "      <td>Angel of Mercy</td>\n",
       "      <td>129465.0</td>\n",
       "      <td>normal</td>\n",
       "      <td>NaN</td>\n",
       "      <td>{4}{W}</td>\n",
       "      <td>5.0</td>\n",
       "      <td>['W']</td>\n",
       "      <td>['W']</td>\n",
       "      <td>Creature — Angel</td>\n",
       "      <td>NaN</td>\n",
       "      <td>...</td>\n",
       "      <td>[{'name': 'Engel der Gnade', 'text': 'Fliegend...</td>\n",
       "      <td>['10E', '8ED', '9ED', 'DDC', 'DVD', 'IMA', 'IN...</td>\n",
       "      <td>Flying\\nWhen Angel of Mercy comes into play, y...</td>\n",
       "      <td>Creature - Angel</td>\n",
       "      <td>[{'format': 'Brawl', 'legality': 'Legal'}, {'f...</td>\n",
       "      <td>NaN</td>\n",
       "      <td>http://gatherer.wizards.com/Handlers/Image.ash...</td>\n",
       "      <td>10E</td>\n",
       "      <td>Tenth Edition</td>\n",
       "      <td>57aaebc1-850c-503d-9f6e-bb8d00d8bf7c</td>\n",
       "    </tr>\n",
       "    <tr>\n",
       "      <th>3</th>\n",
       "      <td>Angel of Mercy</td>\n",
       "      <td>NaN</td>\n",
       "      <td>normal</td>\n",
       "      <td>NaN</td>\n",
       "      <td>{4}{W}</td>\n",
       "      <td>5.0</td>\n",
       "      <td>['W']</td>\n",
       "      <td>['W']</td>\n",
       "      <td>Creature — Angel</td>\n",
       "      <td>NaN</td>\n",
       "      <td>...</td>\n",
       "      <td>NaN</td>\n",
       "      <td>['10E', '8ED', '9ED', 'DDC', 'DVD', 'IMA', 'IN...</td>\n",
       "      <td>NaN</td>\n",
       "      <td>NaN</td>\n",
       "      <td>[{'format': 'Brawl', 'legality': 'Legal'}, {'f...</td>\n",
       "      <td>NaN</td>\n",
       "      <td>NaN</td>\n",
       "      <td>10E</td>\n",
       "      <td>Tenth Edition</td>\n",
       "      <td>8fd4e2eb-3eb4-50ea-856b-ef638fa47f8a</td>\n",
       "    </tr>\n",
       "    <tr>\n",
       "      <th>4</th>\n",
       "      <td>Angelic Blessing</td>\n",
       "      <td>129711.0</td>\n",
       "      <td>normal</td>\n",
       "      <td>NaN</td>\n",
       "      <td>{2}{W}</td>\n",
       "      <td>3.0</td>\n",
       "      <td>['W']</td>\n",
       "      <td>['W']</td>\n",
       "      <td>Sorcery</td>\n",
       "      <td>NaN</td>\n",
       "      <td>...</td>\n",
       "      <td>[{'name': 'Himmlischer Segen', 'text': 'Eine K...</td>\n",
       "      <td>['10E', '9ED', 'EXO', 'P02', 'POR', 'PS11', 'S...</td>\n",
       "      <td>Target creature gets +3/+3 and gains flying un...</td>\n",
       "      <td>Sorcery</td>\n",
       "      <td>[{'format': 'Commander', 'legality': 'Legal'},...</td>\n",
       "      <td>NaN</td>\n",
       "      <td>http://gatherer.wizards.com/Handlers/Image.ash...</td>\n",
       "      <td>10E</td>\n",
       "      <td>Tenth Edition</td>\n",
       "      <td>55bd38ca-dc73-5c06-8f80-a6ddd2f44382</td>\n",
       "    </tr>\n",
       "  </tbody>\n",
       "</table>\n",
       "<p>5 rows × 39 columns</p>\n",
       "</div>"
      ],
      "text/plain": [
       "                name  multiverse_id  layout  names  mana_cost  cmc colors  \\\n",
       "0  Ancestor's Chosen       130550.0  normal    NaN  {5}{W}{W}  7.0  ['W']   \n",
       "1  Ancestor's Chosen            NaN  normal    NaN  {5}{W}{W}  7.0  ['W']   \n",
       "2     Angel of Mercy       129465.0  normal    NaN     {4}{W}  5.0  ['W']   \n",
       "3     Angel of Mercy            NaN  normal    NaN     {4}{W}  5.0  ['W']   \n",
       "4   Angelic Blessing       129711.0  normal    NaN     {2}{W}  3.0  ['W']   \n",
       "\n",
       "  color_identity                     type supertypes  ...  \\\n",
       "0          ['W']  Creature — Human Cleric        NaN  ...   \n",
       "1          ['W']  Creature — Human Cleric        NaN  ...   \n",
       "2          ['W']         Creature — Angel        NaN  ...   \n",
       "3          ['W']         Creature — Angel        NaN  ...   \n",
       "4          ['W']                  Sorcery        NaN  ...   \n",
       "\n",
       "                                       foreign_names  \\\n",
       "0  [{'name': 'Ausgewählter der Ahnfrau', 'text': ...   \n",
       "1                                                NaN   \n",
       "2  [{'name': 'Engel der Gnade', 'text': 'Fliegend...   \n",
       "3                                                NaN   \n",
       "4  [{'name': 'Himmlischer Segen', 'text': 'Eine K...   \n",
       "\n",
       "                                           printings  \\\n",
       "0                              ['10E', 'JUD', 'UMA']   \n",
       "1                              ['10E', 'JUD', 'UMA']   \n",
       "2  ['10E', '8ED', '9ED', 'DDC', 'DVD', 'IMA', 'IN...   \n",
       "3  ['10E', '8ED', '9ED', 'DDC', 'DVD', 'IMA', 'IN...   \n",
       "4  ['10E', '9ED', 'EXO', 'P02', 'POR', 'PS11', 'S...   \n",
       "\n",
       "                                       original_text            original_type  \\\n",
       "0  First strike\\nWhen Ancestor's Chosen comes int...  Creature - Human Cleric   \n",
       "1                                                NaN                      NaN   \n",
       "2  Flying\\nWhen Angel of Mercy comes into play, y...         Creature - Angel   \n",
       "3                                                NaN                      NaN   \n",
       "4  Target creature gets +3/+3 and gains flying un...                  Sorcery   \n",
       "\n",
       "                                          legalities source  \\\n",
       "0  [{'format': 'Commander', 'legality': 'Legal'},...    NaN   \n",
       "1  [{'format': 'Commander', 'legality': 'Legal'},...    NaN   \n",
       "2  [{'format': 'Brawl', 'legality': 'Legal'}, {'f...    NaN   \n",
       "3  [{'format': 'Brawl', 'legality': 'Legal'}, {'f...    NaN   \n",
       "4  [{'format': 'Commander', 'legality': 'Legal'},...    NaN   \n",
       "\n",
       "                                           image_url  set       set_name  \\\n",
       "0  http://gatherer.wizards.com/Handlers/Image.ash...  10E  Tenth Edition   \n",
       "1                                                NaN  10E  Tenth Edition   \n",
       "2  http://gatherer.wizards.com/Handlers/Image.ash...  10E  Tenth Edition   \n",
       "3                                                NaN  10E  Tenth Edition   \n",
       "4  http://gatherer.wizards.com/Handlers/Image.ash...  10E  Tenth Edition   \n",
       "\n",
       "                                     id  \n",
       "0  5f8287b1-5bb6-5f4c-ad17-316a40d5bb0c  \n",
       "1  b7c19924-b4bf-56fc-aa73-f586e940bd42  \n",
       "2  57aaebc1-850c-503d-9f6e-bb8d00d8bf7c  \n",
       "3  8fd4e2eb-3eb4-50ea-856b-ef638fa47f8a  \n",
       "4  55bd38ca-dc73-5c06-8f80-a6ddd2f44382  \n",
       "\n",
       "[5 rows x 39 columns]"
      ]
     },
     "execution_count": 2,
     "metadata": {},
     "output_type": "execute_result"
    }
   ],
   "source": [
    "data = pd.read_csv(\"archive/all_mtg_cards.csv\",low_memory=False)\n",
    "data.head()"
   ]
  },
  {
   "cell_type": "code",
   "execution_count": 3,
   "id": "f9ca62d8-b8c6-4152-85a0-b44a8369cdc0",
   "metadata": {},
   "outputs": [
    {
     "data": {
      "text/plain": [
       "(93643, 39)"
      ]
     },
     "execution_count": 3,
     "metadata": {},
     "output_type": "execute_result"
    }
   ],
   "source": [
    "data.shape"
   ]
  },
  {
   "cell_type": "markdown",
   "id": "aeb9c9ae-178f-44d6-9cfb-6f3948a4a0e8",
   "metadata": {},
   "source": [
    "## Analisa das colunas"
   ]
  },
  {
   "cell_type": "code",
   "execution_count": 4,
   "id": "00d04ed4-87cc-4255-95f1-9ab18cf0569f",
   "metadata": {},
   "outputs": [
    {
     "data": {
      "text/plain": [
       "name                  0\n",
       "layout                0\n",
       "cmc                   0\n",
       "type                  0\n",
       "rarity                0\n",
       "number                0\n",
       "printings             0\n",
       "set_name              0\n",
       "id                    0\n",
       "set                   0\n",
       "artist                9\n",
       "text               1095\n",
       "legalities         4813\n",
       "color_identity    10471\n",
       "mana_cost         12378\n",
       "colors            20408\n",
       "multiverse_id     29835\n",
       "image_url         29835\n",
       "subtypes          36024\n",
       "original_type     37499\n",
       "rulings           38289\n",
       "original_text     38643\n",
       "foreign_names     39793\n",
       "flavor            46891\n",
       "power             49191\n",
       "toughness         49191\n",
       "variations        65155\n",
       "supertypes        77065\n",
       "watermark         86978\n",
       "loyalty           92131\n",
       "hand              93524\n",
       "life              93524\n",
       "release_date      93643\n",
       "reserved          93643\n",
       "starter           93643\n",
       "timeshifted       93643\n",
       "border            93643\n",
       "names             93643\n",
       "source            93643\n",
       "dtype: int64"
      ]
     },
     "execution_count": 4,
     "metadata": {},
     "output_type": "execute_result"
    }
   ],
   "source": [
    "na = data.isna().sum()\n",
    "na.sort_values()"
   ]
  },
  {
   "cell_type": "code",
   "execution_count": 5,
   "id": "d4e74fce-bbbd-44a0-8c02-0d2d7540f3fd",
   "metadata": {},
   "outputs": [
    {
     "data": {
      "text/plain": [
       "Index(['names', 'border', 'timeshifted', 'reserved', 'release_date', 'starter',\n",
       "       'source'],\n",
       "      dtype='object')"
      ]
     },
     "execution_count": 5,
     "metadata": {},
     "output_type": "execute_result"
    }
   ],
   "source": [
    "drop_na = na[na==data.shape[0]].index\n",
    "drop_na"
   ]
  },
  {
   "cell_type": "code",
   "execution_count": 6,
   "id": "08ba07c9-7de6-49b4-893d-319356e9508e",
   "metadata": {},
   "outputs": [
    {
     "data": {
      "text/plain": [
       "Index(['name', 'multiverse_id', 'layout', 'names', 'mana_cost', 'cmc',\n",
       "       'colors', 'color_identity', 'type', 'supertypes', 'subtypes', 'rarity',\n",
       "       'text', 'flavor', 'artist', 'number', 'power', 'toughness', 'loyalty',\n",
       "       'variations', 'watermark', 'border', 'timeshifted', 'hand', 'life',\n",
       "       'reserved', 'release_date', 'starter', 'rulings', 'foreign_names',\n",
       "       'printings', 'original_text', 'original_type', 'legalities', 'source',\n",
       "       'image_url', 'set', 'set_name', 'id'],\n",
       "      dtype='object')"
      ]
     },
     "execution_count": 6,
     "metadata": {},
     "output_type": "execute_result"
    }
   ],
   "source": [
    "data.columns"
   ]
  },
  {
   "cell_type": "code",
   "execution_count": 7,
   "id": "ee202918-9ac8-4e00-a5f3-a08696ba48e5",
   "metadata": {},
   "outputs": [
    {
     "data": {
      "text/plain": [
       "Index(['name', 'multiverse_id', 'layout', 'mana_cost', 'cmc', 'colors',\n",
       "       'color_identity', 'type', 'supertypes', 'subtypes', 'rarity', 'text',\n",
       "       'flavor', 'artist', 'number', 'power', 'toughness', 'loyalty',\n",
       "       'variations', 'watermark', 'hand', 'life', 'rulings', 'foreign_names',\n",
       "       'printings', 'original_text', 'original_type', 'legalities',\n",
       "       'image_url', 'set', 'set_name', 'id'],\n",
       "      dtype='object')"
      ]
     },
     "execution_count": 7,
     "metadata": {},
     "output_type": "execute_result"
    }
   ],
   "source": [
    "data.drop(drop_na,axis=1,inplace=True)\n",
    "data.columns\n"
   ]
  },
  {
   "cell_type": "code",
   "execution_count": 8,
   "id": "4b4ae57d-a803-4df7-a8ae-b353aea44f20",
   "metadata": {
    "scrolled": true
   },
   "outputs": [
    {
     "data": {
      "text/html": [
       "<div>\n",
       "<style scoped>\n",
       "    .dataframe tbody tr th:only-of-type {\n",
       "        vertical-align: middle;\n",
       "    }\n",
       "\n",
       "    .dataframe tbody tr th {\n",
       "        vertical-align: top;\n",
       "    }\n",
       "\n",
       "    .dataframe thead th {\n",
       "        text-align: right;\n",
       "    }\n",
       "</style>\n",
       "<table border=\"1\" class=\"dataframe\">\n",
       "  <thead>\n",
       "    <tr style=\"text-align: right;\">\n",
       "      <th></th>\n",
       "      <th>name</th>\n",
       "      <th>set_name</th>\n",
       "    </tr>\n",
       "  </thead>\n",
       "  <tbody>\n",
       "    <tr>\n",
       "      <th>0</th>\n",
       "      <td>Ancestor's Chosen</td>\n",
       "      <td>Tenth Edition</td>\n",
       "    </tr>\n",
       "    <tr>\n",
       "      <th>1</th>\n",
       "      <td>Ancestor's Chosen</td>\n",
       "      <td>Tenth Edition</td>\n",
       "    </tr>\n",
       "    <tr>\n",
       "      <th>2</th>\n",
       "      <td>Angel of Mercy</td>\n",
       "      <td>Tenth Edition</td>\n",
       "    </tr>\n",
       "    <tr>\n",
       "      <th>3</th>\n",
       "      <td>Angel of Mercy</td>\n",
       "      <td>Tenth Edition</td>\n",
       "    </tr>\n",
       "    <tr>\n",
       "      <th>4</th>\n",
       "      <td>Angelic Blessing</td>\n",
       "      <td>Tenth Edition</td>\n",
       "    </tr>\n",
       "    <tr>\n",
       "      <th>...</th>\n",
       "      <td>...</td>\n",
       "      <td>...</td>\n",
       "    </tr>\n",
       "    <tr>\n",
       "      <th>93638</th>\n",
       "      <td>Into the Roil</td>\n",
       "      <td>Zendikar Rising</td>\n",
       "    </tr>\n",
       "    <tr>\n",
       "      <th>93639</th>\n",
       "      <td>Bloodchief's Thirst</td>\n",
       "      <td>Zendikar Rising</td>\n",
       "    </tr>\n",
       "    <tr>\n",
       "      <th>93640</th>\n",
       "      <td>Roil Eruption</td>\n",
       "      <td>Zendikar Rising</td>\n",
       "    </tr>\n",
       "    <tr>\n",
       "      <th>93641</th>\n",
       "      <td>Roiling Regrowth</td>\n",
       "      <td>Zendikar Rising</td>\n",
       "    </tr>\n",
       "    <tr>\n",
       "      <th>93642</th>\n",
       "      <td>Kargan Warleader</td>\n",
       "      <td>Zendikar Rising</td>\n",
       "    </tr>\n",
       "  </tbody>\n",
       "</table>\n",
       "<p>93643 rows × 2 columns</p>\n",
       "</div>"
      ],
      "text/plain": [
       "                      name         set_name\n",
       "0        Ancestor's Chosen    Tenth Edition\n",
       "1        Ancestor's Chosen    Tenth Edition\n",
       "2           Angel of Mercy    Tenth Edition\n",
       "3           Angel of Mercy    Tenth Edition\n",
       "4         Angelic Blessing    Tenth Edition\n",
       "...                    ...              ...\n",
       "93638        Into the Roil  Zendikar Rising\n",
       "93639  Bloodchief's Thirst  Zendikar Rising\n",
       "93640        Roil Eruption  Zendikar Rising\n",
       "93641     Roiling Regrowth  Zendikar Rising\n",
       "93642     Kargan Warleader  Zendikar Rising\n",
       "\n",
       "[93643 rows x 2 columns]"
      ]
     },
     "execution_count": 8,
     "metadata": {},
     "output_type": "execute_result"
    }
   ],
   "source": [
    "data[~data['set_name'].isna()][['name','set_name']]\n",
    "# data[['name','life']]"
   ]
  },
  {
   "cell_type": "code",
   "execution_count": 8,
   "id": "a760a455-1b44-46bc-a693-2047145403a1",
   "metadata": {},
   "outputs": [],
   "source": [
    "data_fi = data[['name','layout','mana_cost','cmc','colors','color_identity','type','supertypes',\n",
    "                'subtypes', 'rarity', 'artist','power','toughness','loyalty','printings','original_text','set_name','set']]"
   ]
  },
  {
   "cell_type": "markdown",
   "id": "2662da6d-f40d-4303-add1-af88b64b63cf",
   "metadata": {},
   "source": [
    "#### layout"
   ]
  },
  {
   "cell_type": "code",
   "execution_count": 9,
   "id": "3a64f1ea-ef62-45a7-8040-dd97b606ce97",
   "metadata": {},
   "outputs": [
    {
     "data": {
      "text/plain": [
       "np.int64(0)"
      ]
     },
     "execution_count": 9,
     "metadata": {},
     "output_type": "execute_result"
    }
   ],
   "source": [
    "data_fi['layout'].isna().sum()"
   ]
  },
  {
   "cell_type": "code",
   "execution_count": 10,
   "id": "923f095b-2581-4a98-84ab-114b8c11b0ab",
   "metadata": {},
   "outputs": [
    {
     "data": {
      "text/plain": [
       "array(['normal', 'saga', 'adventure', 'class', 'aftermath', 'split',\n",
       "       'flip', 'transform', 'prototype', 'meld', 'leveler', 'mutate',\n",
       "       'vanguard', 'modal_dfc', 'case', 'planar', 'scheme',\n",
       "       'reversible_card', 'augment', 'host'], dtype=object)"
      ]
     },
     "execution_count": 10,
     "metadata": {},
     "output_type": "execute_result"
    }
   ],
   "source": [
    "data_fi['layout'].unique()"
   ]
  },
  {
   "cell_type": "markdown",
   "id": "c5ec01f9-55f9-4ed5-a0c1-75bfce8306de",
   "metadata": {},
   "source": [
    "#### mana_cost"
   ]
  },
  {
   "cell_type": "code",
   "execution_count": 11,
   "id": "64a0b3b1-d978-4b4d-b20b-63d4dd3a76f6",
   "metadata": {},
   "outputs": [
    {
     "data": {
      "text/plain": [
       "0        {5}{W}{W}\n",
       "1        {5}{W}{W}\n",
       "2           {4}{W}\n",
       "3           {4}{W}\n",
       "4           {2}{W}\n",
       "           ...    \n",
       "93638       {1}{U}\n",
       "93639          {B}\n",
       "93640       {1}{R}\n",
       "93641       {2}{G}\n",
       "93642    {1}{R}{W}\n",
       "Name: mana_cost, Length: 93643, dtype: object"
      ]
     },
     "execution_count": 11,
     "metadata": {},
     "output_type": "execute_result"
    }
   ],
   "source": [
    "data_fi['mana_cost']"
   ]
  },
  {
   "cell_type": "code",
   "execution_count": 12,
   "id": "b702cf19-80fe-4cd6-ba97-8fbd06397184",
   "metadata": {},
   "outputs": [],
   "source": [
    "\n",
    "data_fi.loc[:,'mana_cost'] = data_fi['mana_cost'].str.replace(r\"[{}]\", \"\", regex=True)"
   ]
  },
  {
   "cell_type": "markdown",
   "id": "3cf46513",
   "metadata": {},
   "source": []
  },
  {
   "cell_type": "code",
   "execution_count": 13,
   "id": "ca4937fa-7414-4adc-ad5a-43a18ccc3c6d",
   "metadata": {},
   "outputs": [
    {
     "data": {
      "text/plain": [
       "0        5WW\n",
       "1        5WW\n",
       "2         4W\n",
       "3         4W\n",
       "4         2W\n",
       "        ... \n",
       "93638     1U\n",
       "93639      B\n",
       "93640     1R\n",
       "93641     2G\n",
       "93642    1RW\n",
       "Name: mana_cost, Length: 93643, dtype: object"
      ]
     },
     "execution_count": 13,
     "metadata": {},
     "output_type": "execute_result"
    }
   ],
   "source": [
    "data_fi['mana_cost']"
   ]
  },
  {
   "cell_type": "markdown",
   "id": "8049a61f-d64a-429f-958b-1c1daa139f2e",
   "metadata": {},
   "source": [
    "#### CMD"
   ]
  },
  {
   "cell_type": "code",
   "execution_count": 14,
   "id": "bfe6c4cb-54ee-430b-a208-0970efd0f67c",
   "metadata": {},
   "outputs": [
    {
     "data": {
      "text/plain": [
       "np.int64(0)"
      ]
     },
     "execution_count": 14,
     "metadata": {},
     "output_type": "execute_result"
    }
   ],
   "source": [
    "data_fi['cmc'].isna().sum()"
   ]
  },
  {
   "cell_type": "code",
   "execution_count": 15,
   "id": "1e50f709-6bac-453f-a1d3-4f4b19316618",
   "metadata": {},
   "outputs": [
    {
     "data": {
      "text/plain": [
       "0        7.0\n",
       "1        7.0\n",
       "2        5.0\n",
       "3        5.0\n",
       "4        3.0\n",
       "        ... \n",
       "93638    2.0\n",
       "93639    1.0\n",
       "93640    2.0\n",
       "93641    3.0\n",
       "93642    3.0\n",
       "Name: cmc, Length: 93643, dtype: float64"
      ]
     },
     "execution_count": 15,
     "metadata": {},
     "output_type": "execute_result"
    }
   ],
   "source": [
    "data_fi['cmc']"
   ]
  },
  {
   "cell_type": "markdown",
   "id": "87b44826-1000-42c5-b2c3-ee49ce50fe19",
   "metadata": {},
   "source": [
    "#### colors"
   ]
  },
  {
   "cell_type": "code",
   "execution_count": 16,
   "id": "904fba27-38e1-4640-aaab-06579ab0c531",
   "metadata": {},
   "outputs": [
    {
     "data": {
      "text/plain": [
       "np.int64(20408)"
      ]
     },
     "execution_count": 16,
     "metadata": {},
     "output_type": "execute_result"
    }
   ],
   "source": [
    "data_fi['colors'].isna().sum()"
   ]
  },
  {
   "cell_type": "code",
   "execution_count": 17,
   "id": "0db5de80-2f86-4fe7-b7d5-1537eda36a17",
   "metadata": {},
   "outputs": [],
   "source": [
    "data_fi.loc[data_fi['colors'].isna(),'colors'] = 'C'"
   ]
  },
  {
   "cell_type": "code",
   "execution_count": 18,
   "id": "87f4d1ba-2b95-40ba-bb7c-dbd6f1911880",
   "metadata": {},
   "outputs": [
    {
     "data": {
      "text/plain": [
       "array([], dtype=object)"
      ]
     },
     "execution_count": 18,
     "metadata": {},
     "output_type": "execute_result"
    }
   ],
   "source": [
    "data_fi[data_fi['colors'].isna()]['supertypes'].unique()"
   ]
  },
  {
   "cell_type": "code",
   "execution_count": 19,
   "id": "b006738c-08e5-4d01-8144-5950ad617638",
   "metadata": {},
   "outputs": [
    {
     "data": {
      "text/plain": [
       "0          W\n",
       "1          W\n",
       "2          W\n",
       "3          W\n",
       "4          W\n",
       "        ... \n",
       "93638      U\n",
       "93639      B\n",
       "93640      R\n",
       "93641      G\n",
       "93642    R W\n",
       "Name: colors, Length: 93643, dtype: object"
      ]
     },
     "execution_count": 19,
     "metadata": {},
     "output_type": "execute_result"
    }
   ],
   "source": [
    "data_fi['colors']\n",
    "\n",
    "data_fi.loc[:, 'colors'] = data_fi['colors'].apply(lambda x:re.sub(r'[\\[\\]\\',]','',x))\n",
    "data_fi['colors']"
   ]
  },
  {
   "cell_type": "code",
   "execution_count": 20,
   "id": "91adb1d4-6d4b-41d6-902c-43c18e31de64",
   "metadata": {},
   "outputs": [
    {
     "data": {
      "text/plain": [
       "array(['W', 'U', 'B', 'R', 'G', 'C', 'B G W', 'U W', 'B U', 'B U W',\n",
       "       'B W', 'G R U', 'R U', 'B R', 'B G', 'G R', 'G R W', 'R W',\n",
       "       'G U W', 'G U', 'B G R U W', 'G W', 'B R W', 'R U W', 'B G R',\n",
       "       'B R U', 'B G U', 'B G U W', 'B R U W', 'G R U W', 'B G R W',\n",
       "       'B G R U', 'W U', 'U B', 'U G', 'W R', 'U R', 'R G', 'W G', 'W B',\n",
       "       'Green', 'Blue White', 'White', 'Black Green', 'U R G'],\n",
       "      dtype=object)"
      ]
     },
     "execution_count": 20,
     "metadata": {},
     "output_type": "execute_result"
    }
   ],
   "source": [
    "data_fi.colors.unique()"
   ]
  },
  {
   "cell_type": "code",
   "execution_count": 21,
   "id": "62374341-2a0e-4e7b-9f4c-ea65611f53d5",
   "metadata": {},
   "outputs": [],
   "source": [
    "color_map = {\n",
    "    'White': 'W',   \n",
    "    'Blue': 'U',    \n",
    "    'Black': 'B',   \n",
    "    'Red': 'R',     \n",
    "    'Green': 'G',   \n",
    "    'Colorless': 'C' \n",
    "}"
   ]
  },
  {
   "cell_type": "code",
   "execution_count": 22,
   "id": "972e5b94-4e62-4a63-b608-13c73940840e",
   "metadata": {},
   "outputs": [],
   "source": [
    "data_fi.loc[:,'colors'] = data_fi['colors'].replace(color_map,regex=True)"
   ]
  },
  {
   "cell_type": "code",
   "execution_count": 23,
   "id": "0fb12e57-9d3e-4101-ae00-c75aa5f2b06b",
   "metadata": {},
   "outputs": [
    {
     "data": {
      "text/plain": [
       "array(['W', 'U', 'B', 'R', 'G', 'C', 'B G W', 'U W', 'B U', 'B U W',\n",
       "       'B W', 'G R U', 'R U', 'B R', 'B G', 'G R', 'G R W', 'R W',\n",
       "       'G U W', 'G U', 'B G R U W', 'G W', 'B R W', 'R U W', 'B G R',\n",
       "       'B R U', 'B G U', 'B G U W', 'B R U W', 'G R U W', 'B G R W',\n",
       "       'B G R U', 'W U', 'U B', 'U G', 'W R', 'U R', 'R G', 'W G', 'W B',\n",
       "       'U R G'], dtype=object)"
      ]
     },
     "execution_count": 23,
     "metadata": {},
     "output_type": "execute_result"
    }
   ],
   "source": [
    "data_fi.colors.unique()"
   ]
  },
  {
   "cell_type": "code",
   "execution_count": 24,
   "id": "fe4024dd-3366-491e-b3bf-4a2527f44523",
   "metadata": {},
   "outputs": [],
   "source": [
    "data_fi.loc[:,'colors'] = data_fi['colors'].apply(lambda x: \" \".join(sorted(x.split())))"
   ]
  },
  {
   "cell_type": "code",
   "execution_count": 25,
   "id": "2e4b00b9-9e4f-4e3c-9ddc-124cca9c775c",
   "metadata": {},
   "outputs": [
    {
     "data": {
      "text/plain": [
       "array(['W', 'U', 'B', 'R', 'G', 'C', 'B G W', 'U W', 'B U', 'B U W',\n",
       "       'B W', 'G R U', 'R U', 'B R', 'B G', 'G R', 'G R W', 'R W',\n",
       "       'G U W', 'G U', 'B G R U W', 'G W', 'B R W', 'R U W', 'B G R',\n",
       "       'B R U', 'B G U', 'B G U W', 'B R U W', 'G R U W', 'B G R W',\n",
       "       'B G R U'], dtype=object)"
      ]
     },
     "execution_count": 25,
     "metadata": {},
     "output_type": "execute_result"
    }
   ],
   "source": [
    "data_fi.colors.unique()"
   ]
  },
  {
   "cell_type": "markdown",
   "id": "c76ca5b6-3cc2-414a-a42d-68fb42237c1a",
   "metadata": {},
   "source": [
    "#### color_idetity"
   ]
  },
  {
   "cell_type": "code",
   "execution_count": 26,
   "id": "a077c769-e9a3-4dd6-a6d8-33478a59ed52",
   "metadata": {},
   "outputs": [
    {
     "data": {
      "text/plain": [
       "np.int64(10471)"
      ]
     },
     "execution_count": 26,
     "metadata": {},
     "output_type": "execute_result"
    }
   ],
   "source": [
    "data_fi['color_identity'].isna().sum()"
   ]
  },
  {
   "cell_type": "code",
   "execution_count": 27,
   "id": "294c1f4a-0572-4410-b225-166150a16a41",
   "metadata": {},
   "outputs": [
    {
     "data": {
      "text/plain": [
       "array([\"['W']\", \"['U']\", \"['B']\", \"['R']\", \"['G']\", nan,\n",
       "       \"['B', 'G', 'R', 'U', 'W']\", \"['U', 'W']\", \"['R', 'W']\",\n",
       "       \"['G', 'W']\", \"['B', 'W']\", \"['G', 'R']\", \"['B', 'G']\",\n",
       "       \"['R', 'U']\", \"['B', 'R']\", \"['B', 'U']\", \"['G', 'U']\",\n",
       "       \"['B', 'R', 'W']\", \"['B', 'G', 'W']\", \"['B', 'U', 'W']\",\n",
       "       \"['G', 'R', 'U']\", \"['G', 'R', 'W']\", \"['G', 'U', 'W']\",\n",
       "       \"['R', 'U', 'W']\", \"['B', 'G', 'R']\", \"['B', 'R', 'U']\",\n",
       "       \"['B', 'G', 'U']\", \"['B', 'G', 'U', 'W']\", \"['B', 'R', 'U', 'W']\",\n",
       "       \"['G', 'R', 'U', 'W']\", \"['B', 'G', 'R', 'W']\",\n",
       "       \"['B', 'G', 'R', 'U']\"], dtype=object)"
      ]
     },
     "execution_count": 27,
     "metadata": {},
     "output_type": "execute_result"
    }
   ],
   "source": [
    "data_fi['color_identity'].unique()"
   ]
  },
  {
   "cell_type": "code",
   "execution_count": 28,
   "id": "38c4a4a5-b443-460f-854b-08ad46908ac2",
   "metadata": {},
   "outputs": [
    {
     "data": {
      "text/plain": [
       "0             ['W']\n",
       "1             ['W']\n",
       "2             ['W']\n",
       "3             ['W']\n",
       "4             ['W']\n",
       "            ...    \n",
       "93638         ['U']\n",
       "93639         ['B']\n",
       "93640         ['R']\n",
       "93641         ['G']\n",
       "93642    ['R', 'W']\n",
       "Name: color_identity, Length: 93643, dtype: object"
      ]
     },
     "execution_count": 28,
     "metadata": {},
     "output_type": "execute_result"
    }
   ],
   "source": [
    "data_fi['color_identity']"
   ]
  },
  {
   "cell_type": "code",
   "execution_count": 29,
   "id": "6aacdeae-ca30-4332-b5ed-1c9e9d7a2bab",
   "metadata": {},
   "outputs": [],
   "source": [
    "data_fi.loc[data_fi['color_identity'].isna(),'color_identity'] = 'C'"
   ]
  },
  {
   "cell_type": "code",
   "execution_count": 30,
   "id": "3b2d8465-cb4d-46aa-9ec5-de57b9900e48",
   "metadata": {},
   "outputs": [],
   "source": [
    "data_fi.loc[:,'color_identity'] = data_fi['color_identity'].apply(lambda x:re.sub(r'[\\[\\]\\',]','',x))"
   ]
  },
  {
   "cell_type": "code",
   "execution_count": 31,
   "id": "a00ba8e2-34c1-42fd-90ce-5fe0112d2017",
   "metadata": {},
   "outputs": [
    {
     "data": {
      "text/plain": [
       "0          W\n",
       "1          W\n",
       "2          W\n",
       "3          W\n",
       "4          W\n",
       "        ... \n",
       "93638      U\n",
       "93639      B\n",
       "93640      R\n",
       "93641      G\n",
       "93642    R W\n",
       "Name: color_identity, Length: 93643, dtype: object"
      ]
     },
     "execution_count": 31,
     "metadata": {},
     "output_type": "execute_result"
    }
   ],
   "source": [
    "data_fi['color_identity']"
   ]
  },
  {
   "cell_type": "code",
   "execution_count": 32,
   "id": "73f8d729-2271-43cb-9164-8738dd9c2ba8",
   "metadata": {},
   "outputs": [
    {
     "data": {
      "text/plain": [
       "array(['W', 'U', 'B', 'R', 'G', 'C', 'B G R U W', 'U W', 'R W', 'G W',\n",
       "       'B W', 'G R', 'B G', 'R U', 'B R', 'B U', 'G U', 'B R W', 'B G W',\n",
       "       'B U W', 'G R U', 'G R W', 'G U W', 'R U W', 'B G R', 'B R U',\n",
       "       'B G U', 'B G U W', 'B R U W', 'G R U W', 'B G R W', 'B G R U'],\n",
       "      dtype=object)"
      ]
     },
     "execution_count": 32,
     "metadata": {},
     "output_type": "execute_result"
    }
   ],
   "source": [
    "data_fi['color_identity'].unique()"
   ]
  },
  {
   "cell_type": "markdown",
   "id": "1c9eab29-501a-4952-bd83-742b40fd14e5",
   "metadata": {},
   "source": [
    "#### rarity"
   ]
  },
  {
   "cell_type": "code",
   "execution_count": 33,
   "id": "6c4180ac-4d1d-4896-bbc9-4b351a3db53a",
   "metadata": {},
   "outputs": [
    {
     "data": {
      "text/plain": [
       "np.int64(0)"
      ]
     },
     "execution_count": 33,
     "metadata": {},
     "output_type": "execute_result"
    }
   ],
   "source": [
    "data_fi['rarity'].isna().sum()"
   ]
  },
  {
   "cell_type": "code",
   "execution_count": 34,
   "id": "f3078c79-4fe7-4d80-a6f8-65c75af8b0a4",
   "metadata": {},
   "outputs": [
    {
     "data": {
      "text/plain": [
       "array(['Uncommon', 'Common', 'Rare', 'Mythic', 'Special', 'Bonus'],\n",
       "      dtype=object)"
      ]
     },
     "execution_count": 34,
     "metadata": {},
     "output_type": "execute_result"
    }
   ],
   "source": [
    "data_fi['rarity'].unique()"
   ]
  },
  {
   "cell_type": "markdown",
   "id": "053fb87c-559a-4f1f-a9dd-49837d432b5f",
   "metadata": {},
   "source": [
    "#### Artist"
   ]
  },
  {
   "cell_type": "code",
   "execution_count": 35,
   "id": "06acbc1f-5105-4557-bb68-bf5d64188241",
   "metadata": {},
   "outputs": [
    {
     "data": {
      "text/plain": [
       "np.int64(9)"
      ]
     },
     "execution_count": 35,
     "metadata": {},
     "output_type": "execute_result"
    }
   ],
   "source": [
    "data_fi['artist'].isna().sum()"
   ]
  },
  {
   "cell_type": "code",
   "execution_count": 36,
   "id": "faacf074-d283-4cb6-b323-92618c3d3f66",
   "metadata": {},
   "outputs": [
    {
     "data": {
      "text/html": [
       "<div>\n",
       "<style scoped>\n",
       "    .dataframe tbody tr th:only-of-type {\n",
       "        vertical-align: middle;\n",
       "    }\n",
       "\n",
       "    .dataframe tbody tr th {\n",
       "        vertical-align: top;\n",
       "    }\n",
       "\n",
       "    .dataframe thead th {\n",
       "        text-align: right;\n",
       "    }\n",
       "</style>\n",
       "<table border=\"1\" class=\"dataframe\">\n",
       "  <thead>\n",
       "    <tr style=\"text-align: right;\">\n",
       "      <th></th>\n",
       "      <th>name</th>\n",
       "      <th>layout</th>\n",
       "      <th>mana_cost</th>\n",
       "      <th>cmc</th>\n",
       "      <th>colors</th>\n",
       "      <th>color_identity</th>\n",
       "      <th>type</th>\n",
       "      <th>supertypes</th>\n",
       "      <th>subtypes</th>\n",
       "      <th>rarity</th>\n",
       "      <th>artist</th>\n",
       "      <th>power</th>\n",
       "      <th>toughness</th>\n",
       "      <th>loyalty</th>\n",
       "      <th>printings</th>\n",
       "      <th>original_text</th>\n",
       "      <th>set_name</th>\n",
       "      <th>set</th>\n",
       "    </tr>\n",
       "  </thead>\n",
       "  <tbody>\n",
       "    <tr>\n",
       "      <th>78624</th>\n",
       "      <td>Plains</td>\n",
       "      <td>normal</td>\n",
       "      <td>NaN</td>\n",
       "      <td>0.0</td>\n",
       "      <td>C</td>\n",
       "      <td>W</td>\n",
       "      <td>Basic Land — Plains</td>\n",
       "      <td>['Basic']</td>\n",
       "      <td>['Plains']</td>\n",
       "      <td>Rare</td>\n",
       "      <td>NaN</td>\n",
       "      <td>NaN</td>\n",
       "      <td>NaN</td>\n",
       "      <td>NaN</td>\n",
       "      <td>['10E', '2ED', '2XM', '30A', '3ED', '40K', '4B...</td>\n",
       "      <td>NaN</td>\n",
       "      <td>Secret Lair Drop</td>\n",
       "      <td>SLD</td>\n",
       "    </tr>\n",
       "    <tr>\n",
       "      <th>78625</th>\n",
       "      <td>Island</td>\n",
       "      <td>normal</td>\n",
       "      <td>NaN</td>\n",
       "      <td>0.0</td>\n",
       "      <td>C</td>\n",
       "      <td>U</td>\n",
       "      <td>Basic Land — Island</td>\n",
       "      <td>['Basic']</td>\n",
       "      <td>['Island']</td>\n",
       "      <td>Rare</td>\n",
       "      <td>NaN</td>\n",
       "      <td>NaN</td>\n",
       "      <td>NaN</td>\n",
       "      <td>NaN</td>\n",
       "      <td>['10E', '2ED', '2XM', '30A', '3ED', '40K', '4B...</td>\n",
       "      <td>NaN</td>\n",
       "      <td>Secret Lair Drop</td>\n",
       "      <td>SLD</td>\n",
       "    </tr>\n",
       "    <tr>\n",
       "      <th>78626</th>\n",
       "      <td>Swamp</td>\n",
       "      <td>normal</td>\n",
       "      <td>NaN</td>\n",
       "      <td>0.0</td>\n",
       "      <td>C</td>\n",
       "      <td>B</td>\n",
       "      <td>Basic Land — Swamp</td>\n",
       "      <td>['Basic']</td>\n",
       "      <td>['Swamp']</td>\n",
       "      <td>Rare</td>\n",
       "      <td>NaN</td>\n",
       "      <td>NaN</td>\n",
       "      <td>NaN</td>\n",
       "      <td>NaN</td>\n",
       "      <td>['10E', '2ED', '2XM', '30A', '3ED', '40K', '4B...</td>\n",
       "      <td>NaN</td>\n",
       "      <td>Secret Lair Drop</td>\n",
       "      <td>SLD</td>\n",
       "    </tr>\n",
       "    <tr>\n",
       "      <th>78627</th>\n",
       "      <td>Mountain</td>\n",
       "      <td>normal</td>\n",
       "      <td>NaN</td>\n",
       "      <td>0.0</td>\n",
       "      <td>C</td>\n",
       "      <td>R</td>\n",
       "      <td>Basic Land — Mountain</td>\n",
       "      <td>['Basic']</td>\n",
       "      <td>['Mountain']</td>\n",
       "      <td>Rare</td>\n",
       "      <td>NaN</td>\n",
       "      <td>NaN</td>\n",
       "      <td>NaN</td>\n",
       "      <td>NaN</td>\n",
       "      <td>['10E', '2ED', '2XM', '30A', '3ED', '40K', '4B...</td>\n",
       "      <td>NaN</td>\n",
       "      <td>Secret Lair Drop</td>\n",
       "      <td>SLD</td>\n",
       "    </tr>\n",
       "    <tr>\n",
       "      <th>78628</th>\n",
       "      <td>Forest</td>\n",
       "      <td>normal</td>\n",
       "      <td>NaN</td>\n",
       "      <td>0.0</td>\n",
       "      <td>C</td>\n",
       "      <td>G</td>\n",
       "      <td>Basic Land — Forest</td>\n",
       "      <td>['Basic']</td>\n",
       "      <td>['Forest']</td>\n",
       "      <td>Rare</td>\n",
       "      <td>NaN</td>\n",
       "      <td>NaN</td>\n",
       "      <td>NaN</td>\n",
       "      <td>NaN</td>\n",
       "      <td>['10E', '2ED', '2XM', '30A', '3ED', '40K', '4B...</td>\n",
       "      <td>NaN</td>\n",
       "      <td>Secret Lair Drop</td>\n",
       "      <td>SLD</td>\n",
       "    </tr>\n",
       "    <tr>\n",
       "      <th>78955</th>\n",
       "      <td>Terramorphic Expanse</td>\n",
       "      <td>normal</td>\n",
       "      <td>NaN</td>\n",
       "      <td>0.0</td>\n",
       "      <td>C</td>\n",
       "      <td>C</td>\n",
       "      <td>Land</td>\n",
       "      <td>NaN</td>\n",
       "      <td>NaN</td>\n",
       "      <td>Rare</td>\n",
       "      <td>NaN</td>\n",
       "      <td>NaN</td>\n",
       "      <td>NaN</td>\n",
       "      <td>NaN</td>\n",
       "      <td>['10E', '40K', 'AFC', 'ARC', 'BRC', 'C13', 'C1...</td>\n",
       "      <td>NaN</td>\n",
       "      <td>Secret Lair Drop</td>\n",
       "      <td>SLD</td>\n",
       "    </tr>\n",
       "    <tr>\n",
       "      <th>79120</th>\n",
       "      <td>Relentless Rats</td>\n",
       "      <td>normal</td>\n",
       "      <td>1BB</td>\n",
       "      <td>3.0</td>\n",
       "      <td>B</td>\n",
       "      <td>B</td>\n",
       "      <td>Creature — Rat</td>\n",
       "      <td>NaN</td>\n",
       "      <td>['Rat']</td>\n",
       "      <td>Rare</td>\n",
       "      <td>NaN</td>\n",
       "      <td>2</td>\n",
       "      <td>2</td>\n",
       "      <td>NaN</td>\n",
       "      <td>['10E', '5DN', 'A25', 'M10', 'M11', 'PLST', 'P...</td>\n",
       "      <td>NaN</td>\n",
       "      <td>Secret Lair Drop</td>\n",
       "      <td>SLD</td>\n",
       "    </tr>\n",
       "    <tr>\n",
       "      <th>85611</th>\n",
       "      <td>Look at Me, I'm R&amp;D</td>\n",
       "      <td>normal</td>\n",
       "      <td>2W</td>\n",
       "      <td>3.0</td>\n",
       "      <td>W</td>\n",
       "      <td>W</td>\n",
       "      <td>Enchantment</td>\n",
       "      <td>NaN</td>\n",
       "      <td>NaN</td>\n",
       "      <td>Rare</td>\n",
       "      <td>NaN</td>\n",
       "      <td>NaN</td>\n",
       "      <td>NaN</td>\n",
       "      <td>NaN</td>\n",
       "      <td>['UND', 'UNH']</td>\n",
       "      <td>As Look at Me, I'm R&amp;D comes into play, choose...</td>\n",
       "      <td>Unsanctioned</td>\n",
       "      <td>UND</td>\n",
       "    </tr>\n",
       "    <tr>\n",
       "      <th>86363</th>\n",
       "      <td>Look at Me, I'm R&amp;D</td>\n",
       "      <td>normal</td>\n",
       "      <td>2W</td>\n",
       "      <td>3.0</td>\n",
       "      <td>W</td>\n",
       "      <td>W</td>\n",
       "      <td>Enchantment</td>\n",
       "      <td>NaN</td>\n",
       "      <td>NaN</td>\n",
       "      <td>Rare</td>\n",
       "      <td>NaN</td>\n",
       "      <td>NaN</td>\n",
       "      <td>NaN</td>\n",
       "      <td>NaN</td>\n",
       "      <td>['UND', 'UNH']</td>\n",
       "      <td>As Look at Me, I'm R&amp;D comes into play, choose...</td>\n",
       "      <td>Unhinged</td>\n",
       "      <td>UNH</td>\n",
       "    </tr>\n",
       "  </tbody>\n",
       "</table>\n",
       "</div>"
      ],
      "text/plain": [
       "                       name  layout mana_cost  cmc colors color_identity  \\\n",
       "78624                Plains  normal       NaN  0.0      C              W   \n",
       "78625                Island  normal       NaN  0.0      C              U   \n",
       "78626                 Swamp  normal       NaN  0.0      C              B   \n",
       "78627              Mountain  normal       NaN  0.0      C              R   \n",
       "78628                Forest  normal       NaN  0.0      C              G   \n",
       "78955  Terramorphic Expanse  normal       NaN  0.0      C              C   \n",
       "79120       Relentless Rats  normal       1BB  3.0      B              B   \n",
       "85611   Look at Me, I'm R&D  normal        2W  3.0      W              W   \n",
       "86363   Look at Me, I'm R&D  normal        2W  3.0      W              W   \n",
       "\n",
       "                        type supertypes      subtypes rarity artist power  \\\n",
       "78624    Basic Land — Plains  ['Basic']    ['Plains']   Rare    NaN   NaN   \n",
       "78625    Basic Land — Island  ['Basic']    ['Island']   Rare    NaN   NaN   \n",
       "78626     Basic Land — Swamp  ['Basic']     ['Swamp']   Rare    NaN   NaN   \n",
       "78627  Basic Land — Mountain  ['Basic']  ['Mountain']   Rare    NaN   NaN   \n",
       "78628    Basic Land — Forest  ['Basic']    ['Forest']   Rare    NaN   NaN   \n",
       "78955                   Land        NaN           NaN   Rare    NaN   NaN   \n",
       "79120         Creature — Rat        NaN       ['Rat']   Rare    NaN     2   \n",
       "85611            Enchantment        NaN           NaN   Rare    NaN   NaN   \n",
       "86363            Enchantment        NaN           NaN   Rare    NaN   NaN   \n",
       "\n",
       "      toughness loyalty                                          printings  \\\n",
       "78624       NaN     NaN  ['10E', '2ED', '2XM', '30A', '3ED', '40K', '4B...   \n",
       "78625       NaN     NaN  ['10E', '2ED', '2XM', '30A', '3ED', '40K', '4B...   \n",
       "78626       NaN     NaN  ['10E', '2ED', '2XM', '30A', '3ED', '40K', '4B...   \n",
       "78627       NaN     NaN  ['10E', '2ED', '2XM', '30A', '3ED', '40K', '4B...   \n",
       "78628       NaN     NaN  ['10E', '2ED', '2XM', '30A', '3ED', '40K', '4B...   \n",
       "78955       NaN     NaN  ['10E', '40K', 'AFC', 'ARC', 'BRC', 'C13', 'C1...   \n",
       "79120         2     NaN  ['10E', '5DN', 'A25', 'M10', 'M11', 'PLST', 'P...   \n",
       "85611       NaN     NaN                                     ['UND', 'UNH']   \n",
       "86363       NaN     NaN                                     ['UND', 'UNH']   \n",
       "\n",
       "                                           original_text          set_name  \\\n",
       "78624                                                NaN  Secret Lair Drop   \n",
       "78625                                                NaN  Secret Lair Drop   \n",
       "78626                                                NaN  Secret Lair Drop   \n",
       "78627                                                NaN  Secret Lair Drop   \n",
       "78628                                                NaN  Secret Lair Drop   \n",
       "78955                                                NaN  Secret Lair Drop   \n",
       "79120                                                NaN  Secret Lair Drop   \n",
       "85611  As Look at Me, I'm R&D comes into play, choose...      Unsanctioned   \n",
       "86363  As Look at Me, I'm R&D comes into play, choose...          Unhinged   \n",
       "\n",
       "       set  \n",
       "78624  SLD  \n",
       "78625  SLD  \n",
       "78626  SLD  \n",
       "78627  SLD  \n",
       "78628  SLD  \n",
       "78955  SLD  \n",
       "79120  SLD  \n",
       "85611  UND  \n",
       "86363  UNH  "
      ]
     },
     "execution_count": 36,
     "metadata": {},
     "output_type": "execute_result"
    }
   ],
   "source": [
    "data_fi[data_fi['artist'].isna()]"
   ]
  },
  {
   "cell_type": "code",
   "execution_count": 37,
   "id": "5b514979-c1bf-485b-aacf-ff49a4a47198",
   "metadata": {},
   "outputs": [],
   "source": [
    "data_fi.loc[data_fi['artist'].isna(),'artist'] = 'WOTC'"
   ]
  },
  {
   "cell_type": "code",
   "execution_count": 38,
   "id": "48868d36-d052-470d-8fd3-4f238fa45e68",
   "metadata": {},
   "outputs": [
    {
     "data": {
      "text/plain": [
       "np.int64(0)"
      ]
     },
     "execution_count": 38,
     "metadata": {},
     "output_type": "execute_result"
    }
   ],
   "source": [
    "data_fi['artist'].isna().sum()"
   ]
  },
  {
   "cell_type": "markdown",
   "id": "30a3a682-c8f0-45b6-9ab6-e50b2281d8f4",
   "metadata": {},
   "source": [
    "#### Power"
   ]
  },
  {
   "cell_type": "code",
   "execution_count": 39,
   "id": "f2e5e235-f801-439b-a419-00ce5f0bb08c",
   "metadata": {},
   "outputs": [
    {
     "data": {
      "text/plain": [
       "np.int64(49191)"
      ]
     },
     "execution_count": 39,
     "metadata": {},
     "output_type": "execute_result"
    }
   ],
   "source": [
    "data_fi['power'].isna().sum()"
   ]
  },
  {
   "cell_type": "code",
   "execution_count": 40,
   "id": "da6cb24c-85fa-4c3e-ad24-a1561705cb4d",
   "metadata": {},
   "outputs": [
    {
     "data": {
      "text/plain": [
       "array(['4', '3', nan, '0', '2', '1', '11', '5', '6', '7', '*', '8', '9',\n",
       "       '15', '12', '10', '16', '13', '2+*', '-1', '1+*', '?', '18', '99',\n",
       "       '∞', '+3', '+2', '+1', '1.5', '.5', '2.5', '3.5', '*²', '+4', '+0'],\n",
       "      dtype=object)"
      ]
     },
     "execution_count": 40,
     "metadata": {},
     "output_type": "execute_result"
    }
   ],
   "source": [
    "data_fi['power'].unique()"
   ]
  },
  {
   "cell_type": "code",
   "execution_count": 41,
   "id": "f1ba0bbe-acc1-4a2e-b75d-da7cb81be854",
   "metadata": {},
   "outputs": [
    {
     "data": {
      "text/html": [
       "<div>\n",
       "<style scoped>\n",
       "    .dataframe tbody tr th:only-of-type {\n",
       "        vertical-align: middle;\n",
       "    }\n",
       "\n",
       "    .dataframe tbody tr th {\n",
       "        vertical-align: top;\n",
       "    }\n",
       "\n",
       "    .dataframe thead th {\n",
       "        text-align: right;\n",
       "    }\n",
       "</style>\n",
       "<table border=\"1\" class=\"dataframe\">\n",
       "  <thead>\n",
       "    <tr style=\"text-align: right;\">\n",
       "      <th></th>\n",
       "      <th>name</th>\n",
       "      <th>layout</th>\n",
       "      <th>mana_cost</th>\n",
       "      <th>cmc</th>\n",
       "      <th>colors</th>\n",
       "      <th>color_identity</th>\n",
       "      <th>type</th>\n",
       "      <th>supertypes</th>\n",
       "      <th>subtypes</th>\n",
       "      <th>rarity</th>\n",
       "      <th>artist</th>\n",
       "      <th>power</th>\n",
       "      <th>toughness</th>\n",
       "      <th>loyalty</th>\n",
       "      <th>printings</th>\n",
       "      <th>original_text</th>\n",
       "      <th>set_name</th>\n",
       "      <th>set</th>\n",
       "    </tr>\n",
       "  </thead>\n",
       "  <tbody>\n",
       "  </tbody>\n",
       "</table>\n",
       "</div>"
      ],
      "text/plain": [
       "Empty DataFrame\n",
       "Columns: [name, layout, mana_cost, cmc, colors, color_identity, type, supertypes, subtypes, rarity, artist, power, toughness, loyalty, printings, original_text, set_name, set]\n",
       "Index: []"
      ]
     },
     "execution_count": 41,
     "metadata": {},
     "output_type": "execute_result"
    }
   ],
   "source": [
    "data_fi[data_fi['toughness']=='7-']"
   ]
  },
  {
   "cell_type": "code",
   "execution_count": 42,
   "id": "867e609e-432a-4ab5-b53a-254bfe3ccc9a",
   "metadata": {},
   "outputs": [],
   "source": [
    "data_fi.loc[:,'power'] = data_fi['power'].str.replace('+','',regex=False)"
   ]
  },
  {
   "cell_type": "code",
   "execution_count": 43,
   "id": "35d686e3-7c0c-4546-9a22-d935bc3d2650",
   "metadata": {},
   "outputs": [
    {
     "data": {
      "text/plain": [
       "array(['4', '3', nan, '0', '2', '1', '11', '5', '6', '7', '*', '8', '9',\n",
       "       '15', '12', '10', '16', '13', '2*', '-1', '1*', '?', '18', '99',\n",
       "       '∞', '1.5', '.5', '2.5', '3.5', '*²'], dtype=object)"
      ]
     },
     "execution_count": 43,
     "metadata": {},
     "output_type": "execute_result"
    }
   ],
   "source": [
    "data_fi['power'].unique()"
   ]
  },
  {
   "cell_type": "code",
   "execution_count": 44,
   "id": "ebcac9e1-4be7-485d-a032-7eb204f9ce97",
   "metadata": {},
   "outputs": [],
   "source": [
    "data_fi.loc[:,'power'] = data_fi['power'].str.replace(r'^\\*$', '0', regex=True)"
   ]
  },
  {
   "cell_type": "code",
   "execution_count": 45,
   "id": "8135019c-a4e9-43fc-a865-5ff0b3450253",
   "metadata": {},
   "outputs": [
    {
     "data": {
      "text/plain": [
       "array(['4', '3', nan, '0', '2', '1', '11', '5', '6', '7', '8', '9', '15',\n",
       "       '12', '10', '16', '13', '2*', '-1', '1*', '?', '18', '99', '∞',\n",
       "       '1.5', '.5', '2.5', '3.5', '*²'], dtype=object)"
      ]
     },
     "execution_count": 45,
     "metadata": {},
     "output_type": "execute_result"
    }
   ],
   "source": [
    "data_fi['power'].unique()"
   ]
  },
  {
   "cell_type": "code",
   "execution_count": 46,
   "id": "241aff56-d7c0-4e4e-9ab5-f19ba87713a5",
   "metadata": {},
   "outputs": [],
   "source": [
    "data_fi.loc[:,'power'] = data_fi['power'].str.replace('*²', '1', regex=False)"
   ]
  },
  {
   "cell_type": "code",
   "execution_count": 47,
   "id": "bcad7d7a-d14d-44a2-becb-445aa039c0ff",
   "metadata": {},
   "outputs": [
    {
     "data": {
      "text/plain": [
       "array(['4', '3', nan, '0', '2', '1', '11', '5', '6', '7', '8', '9', '15',\n",
       "       '12', '10', '16', '13', '2*', '-1', '1*', '?', '18', '99', '∞',\n",
       "       '1.5', '.5', '2.5', '3.5'], dtype=object)"
      ]
     },
     "execution_count": 47,
     "metadata": {},
     "output_type": "execute_result"
    }
   ],
   "source": [
    "data_fi['power'].unique()"
   ]
  },
  {
   "cell_type": "code",
   "execution_count": 48,
   "id": "ab74b5e3-2e0d-4b86-8eca-f7fb1f1cd37d",
   "metadata": {},
   "outputs": [],
   "source": [
    "data_fi.loc[:,'power'] = data_fi['power'].str.replace('∞', 'inf', regex=False)\n",
    "data_fi.loc[:,'power'] = data_fi['power'].str.replace('?', '1', regex=False)\n",
    "data_fi.loc[:,'power'] = data_fi['power'].str.replace('*', '', regex=False)"
   ]
  },
  {
   "cell_type": "code",
   "execution_count": 49,
   "id": "4d3ea2dd-d828-4931-b108-40d3f4ed2bcb",
   "metadata": {},
   "outputs": [
    {
     "data": {
      "text/plain": [
       "array(['4', '3', nan, '0', '2', '1', '11', '5', '6', '7', '8', '9', '15',\n",
       "       '12', '10', '16', '13', '-1', '18', '99', 'inf', '1.5', '.5',\n",
       "       '2.5', '3.5'], dtype=object)"
      ]
     },
     "execution_count": 49,
     "metadata": {},
     "output_type": "execute_result"
    }
   ],
   "source": [
    "data_fi['power'].unique()"
   ]
  },
  {
   "cell_type": "code",
   "execution_count": 50,
   "id": "99621dbc-0c27-4552-9fdb-baf2722e32cf",
   "metadata": {},
   "outputs": [],
   "source": [
    "data_fi.loc[:,'power'] = pd.to_numeric(data_fi['power'])"
   ]
  },
  {
   "cell_type": "code",
   "execution_count": 51,
   "id": "6f92b6f6-9967-45f3-8b56-a4021d83b094",
   "metadata": {},
   "outputs": [
    {
     "data": {
      "text/plain": [
       "array([4.0, 3.0, nan, 0.0, 2.0, 1.0, 11.0, 5.0, 6.0, 7.0, 8.0, 9.0, 15.0,\n",
       "       12.0, 10.0, 16.0, 13.0, -1.0, 18.0, 99.0, inf, 1.5, 0.5, 2.5, 3.5],\n",
       "      dtype=object)"
      ]
     },
     "execution_count": 51,
     "metadata": {},
     "output_type": "execute_result"
    }
   ],
   "source": [
    "data_fi['power'].unique()"
   ]
  },
  {
   "cell_type": "markdown",
   "id": "d64a21d7-6a14-4e7a-8aca-def8da7bdb0c",
   "metadata": {},
   "source": [
    "#### Toughness"
   ]
  },
  {
   "cell_type": "code",
   "execution_count": 52,
   "id": "64d1758e-bb45-43dd-a199-be5db3acdd43",
   "metadata": {},
   "outputs": [
    {
     "data": {
      "text/plain": [
       "np.int64(49191)"
      ]
     },
     "execution_count": 52,
     "metadata": {},
     "output_type": "execute_result"
    }
   ],
   "source": [
    "data_fi['toughness'].isna().sum()"
   ]
  },
  {
   "cell_type": "code",
   "execution_count": 53,
   "id": "589660f1-367d-40c8-9084-4ea402d2daaa",
   "metadata": {},
   "outputs": [
    {
     "data": {
      "text/plain": [
       "array(['4', '3', nan, '2', '1', '5', '6', '0', '11', '7', '*', '8', '9',\n",
       "       '15', '12', '10', '16', '13', '2+*', '7-*', '-1', '1+*', '?',\n",
       "       '*+1', '20', '17', '14', '99', '+3', '+1', '-0', '3.5', '.5',\n",
       "       '2.5', '1.5', '*²', '+2', '+4', '+0'], dtype=object)"
      ]
     },
     "execution_count": 53,
     "metadata": {},
     "output_type": "execute_result"
    }
   ],
   "source": [
    "data_fi['toughness'].unique()"
   ]
  },
  {
   "cell_type": "code",
   "execution_count": 54,
   "id": "f6ffd47e-a0f9-49ab-9b3b-ccac89892343",
   "metadata": {},
   "outputs": [],
   "source": [
    "data_fi.loc[:,'toughness'] = data_fi['toughness'].str.replace('+','',regex=False)"
   ]
  },
  {
   "cell_type": "code",
   "execution_count": 55,
   "id": "196a6ba7-6961-406a-945c-c4d610b0aacb",
   "metadata": {},
   "outputs": [],
   "source": [
    "data_fi.loc[:,'toughness'] = data_fi['toughness'].str.replace(r'^\\*$', '0', regex=True)"
   ]
  },
  {
   "cell_type": "code",
   "execution_count": 56,
   "id": "57878405-b066-467e-82ce-5faff8fe3a8d",
   "metadata": {},
   "outputs": [],
   "source": [
    "data_fi.loc[:,'toughness'] = data_fi['toughness'].str.replace('*', '', regex=False)"
   ]
  },
  {
   "cell_type": "code",
   "execution_count": 57,
   "id": "a9df4ecd-d827-48d4-b38e-9430a2425e8e",
   "metadata": {},
   "outputs": [],
   "source": [
    "data_fi.loc[:,'toughness'] = data_fi['toughness'].str.replace('²', '1', regex=False)"
   ]
  },
  {
   "cell_type": "code",
   "execution_count": 58,
   "id": "eb29b279-c67c-4d48-8989-e866a543a10b",
   "metadata": {},
   "outputs": [],
   "source": [
    "data_fi.loc[:,'toughness'] = data_fi['toughness'].str.replace('?', '1', regex=False)"
   ]
  },
  {
   "cell_type": "code",
   "execution_count": 59,
   "id": "8db9b89a-2c1c-4a16-8505-2c99902a2aae",
   "metadata": {},
   "outputs": [],
   "source": [
    "data_fi.loc[:,'toughness'] = data_fi['toughness'].str.replace('7-', '7', regex=False)"
   ]
  },
  {
   "cell_type": "code",
   "execution_count": 60,
   "id": "3d303a4e-76bf-442f-b9d2-4c94d2f397f8",
   "metadata": {},
   "outputs": [
    {
     "data": {
      "text/plain": [
       "array(['4', '3', nan, '2', '1', '5', '6', '0', '11', '7', '8', '9', '15',\n",
       "       '12', '10', '16', '13', '-1', '20', '17', '14', '99', '-0', '3.5',\n",
       "       '.5', '2.5', '1.5'], dtype=object)"
      ]
     },
     "execution_count": 60,
     "metadata": {},
     "output_type": "execute_result"
    }
   ],
   "source": [
    "data_fi['toughness'].unique()"
   ]
  },
  {
   "cell_type": "code",
   "execution_count": 61,
   "id": "5736680d-b7cd-4fe3-854b-75492dfe4703",
   "metadata": {},
   "outputs": [],
   "source": [
    "data_fi.loc[:,'toughness'] = pd.to_numeric(data_fi['toughness'])"
   ]
  },
  {
   "cell_type": "markdown",
   "id": "72d587c2-add0-4782-bea9-b58aec841371",
   "metadata": {},
   "source": [
    "#### loyalty"
   ]
  },
  {
   "cell_type": "code",
   "execution_count": 62,
   "id": "c9e48a2c-20d2-4eab-bae7-3bf08e424c1b",
   "metadata": {},
   "outputs": [
    {
     "data": {
      "text/plain": [
       "array([nan, '3', '7', '6', '4', '5', 'X', '2', '*', '0', '1d4+1', '20'],\n",
       "      dtype=object)"
      ]
     },
     "execution_count": 62,
     "metadata": {},
     "output_type": "execute_result"
    }
   ],
   "source": [
    "data_fi['loyalty'].unique()"
   ]
  },
  {
   "cell_type": "code",
   "execution_count": 63,
   "id": "f247aa90-4e08-4a94-8e65-06f212fe3b50",
   "metadata": {},
   "outputs": [],
   "source": [
    "data_fi.loc[:,'loyalty'] = data_fi['loyalty'].str.replace('1d4+1', '2', regex=False)\n",
    "data_fi.loc[:,'loyalty'] = data_fi['loyalty'].str.replace(r'[*X]', '0', regex=True)"
   ]
  },
  {
   "cell_type": "code",
   "execution_count": 64,
   "id": "aa7379d8-86ff-422f-8e30-c529f4a59cf4",
   "metadata": {},
   "outputs": [
    {
     "data": {
      "text/plain": [
       "array([nan, '3', '7', '6', '4', '5', '0', '2', '20'], dtype=object)"
      ]
     },
     "execution_count": 64,
     "metadata": {},
     "output_type": "execute_result"
    }
   ],
   "source": [
    "data_fi['loyalty'].unique()"
   ]
  },
  {
   "cell_type": "markdown",
   "id": "a1b50b6a-4fd7-4655-94b5-cfcea7cb50c5",
   "metadata": {},
   "source": [
    "#### printings"
   ]
  },
  {
   "cell_type": "code",
   "execution_count": 65,
   "id": "aa6e51aa-1ae2-4103-99ab-638a7529f1c0",
   "metadata": {},
   "outputs": [
    {
     "data": {
      "text/plain": [
       "np.int64(0)"
      ]
     },
     "execution_count": 65,
     "metadata": {},
     "output_type": "execute_result"
    }
   ],
   "source": [
    "data_fi['printings'].isna().sum()"
   ]
  },
  {
   "cell_type": "code",
   "execution_count": 66,
   "id": "e4a08e8c-4c72-4734-9363-b98ced0a253e",
   "metadata": {},
   "outputs": [
    {
     "data": {
      "text/plain": [
       "array([\"['10E', 'JUD', 'UMA']\",\n",
       "       \"['10E', '8ED', '9ED', 'DDC', 'DVD', 'IMA', 'INV', 'JMP', 'P02', 'PLST', 'PS11', 'PSAL', 'S99']\",\n",
       "       \"['10E', '9ED', 'EXO', 'P02', 'POR', 'PS11', 'S00', 'S99', 'TPR']\",\n",
       "       ..., \"['ZEN']\", \"['ZNC']\", \"['ZNR']\"], shape=(9625,), dtype=object)"
      ]
     },
     "execution_count": 66,
     "metadata": {},
     "output_type": "execute_result"
    }
   ],
   "source": [
    "data_fi['printings'].unique()"
   ]
  },
  {
   "cell_type": "code",
   "execution_count": 67,
   "id": "a1e84b10-7e66-48bd-a67b-0b702a4ea97f",
   "metadata": {},
   "outputs": [],
   "source": [
    "data_fi.loc[:,'printings'] = data_fi['printings'].str.replace(r'[\\[\\],\\']','',regex=True)"
   ]
  },
  {
   "cell_type": "code",
   "execution_count": 68,
   "id": "5f5891f6-4f8a-42fc-8a22-20f0969bd46e",
   "metadata": {},
   "outputs": [
    {
     "data": {
      "text/plain": [
       "array(['10E JUD UMA',\n",
       "       '10E 8ED 9ED DDC DVD IMA INV JMP P02 PLST PS11 PSAL S99',\n",
       "       '10E 9ED EXO P02 POR PS11 S00 S99 TPR', ..., 'ZEN', 'ZNC', 'ZNR'],\n",
       "      shape=(9625,), dtype=object)"
      ]
     },
     "execution_count": 68,
     "metadata": {},
     "output_type": "execute_result"
    }
   ],
   "source": [
    "data_fi['printings'].unique()"
   ]
  },
  {
   "cell_type": "markdown",
   "id": "553f80ce-3647-4b5c-9615-b4623b3026c5",
   "metadata": {},
   "source": [
    "#### Type"
   ]
  },
  {
   "cell_type": "code",
   "execution_count": 69,
   "id": "b40322e4-cc92-4cf0-8438-c6adfc8616ca",
   "metadata": {},
   "outputs": [
    {
     "data": {
      "text/plain": [
       "array(['Creature ', 'Sorcery', 'Enchantment', 'Instant',\n",
       "       'Legendary Creature ', 'Enchantment ', 'Artifact',\n",
       "       'Artifact Creature ', 'Legendary Artifact', 'Artifact ', 'Land',\n",
       "       'Basic Land ', 'Land ', 'Tribal Enchantment ', 'Tribal Instant ',\n",
       "       'Legendary Planeswalker ', 'Enchantment Creature ',\n",
       "       'World Enchantment', 'Snow Artifact', 'Instant ',\n",
       "       'Legendary Artifact Creature ', 'Legendary Artifact ',\n",
       "       'Legendary Land', 'Legendary Snow Land', 'Artifact Land',\n",
       "       'Legendary Enchantment Artifact', 'Legendary Enchantment',\n",
       "       'Sorcery ', 'Legendary Enchantment Creature ',\n",
       "       'Legendary Enchantment ', 'Legendary Sorcery', 'Snow Creature ',\n",
       "       'Tribal Sorcery ', 'Legendary Land ', 'Snow Land ', 'Vanguard',\n",
       "       'Instant Creature ', 'Summon ', 'Summon Wolf',\n",
       "       'Elemental Instant ', 'Planeswalker ', 'Enchantment Land',\n",
       "       'Land Creature ', 'Legendary Planeswalker', 'Basic Land',\n",
       "       'Conspiracy', 'Snow Enchantment', 'Snow Enchantment ',\n",
       "       'Snow Artifact Creature ', 'Snow Land', 'Basic Snow Land ',\n",
       "       'Creature', 'Legendary Snow Enchantment',\n",
       "       'Legendary Snow Creature ', 'Tribal Artifact ', 'Snow Sorcery',\n",
       "       'Snow Instant', 'Legendary Snow Artifact',\n",
       "       'Legendary Artifact Land', 'Legendary Instant',\n",
       "       'Enchantment Land ', 'Kindred Enchantment ', 'Basic Snow Land',\n",
       "       'Artifact Land ', 'Plane ', 'Phenomenon', 'Battle ', 'Scheme',\n",
       "       'Ongoing Scheme', 'Summon Jaguar', 'Summon Dragon',\n",
       "       'Summon Goblin', 'Summon Knights', 'Summon Legend',\n",
       "       'Legendary Universewalker ', 'Stickers', 'Hero', 'Hero Artifact ',\n",
       "       \"Scariest Creature You'll Ever See\", 'Legendary Creature',\n",
       "       'Host Artifact Creature ', 'Host Creature ',\n",
       "       'Artifact Enchantment ', 'Eaturecray ', 'instant'], dtype=object)"
      ]
     },
     "execution_count": 69,
     "metadata": {},
     "output_type": "execute_result"
    }
   ],
   "source": [
    "s = data_fi['type'].unique()\n",
    "t = data_fi['type'].apply(lambda x: x.split(\"—\")[0])\n",
    "# pd.options.display.max_rows = len(s)\n",
    "t.unique()"
   ]
  },
  {
   "cell_type": "code",
   "execution_count": 82,
   "id": "48120e36-e54f-4074-8472-c7c37a097133",
   "metadata": {},
   "outputs": [],
   "source": [
    "MAGIC_CARD_TYPES = [\n",
    "    \"CREATURE\",      # Criatura\n",
    "    \"SORCERY\",       # Feitiço\n",
    "    \"INSTANT\",       # Mágica Instantânea\n",
    "    \"ENCHANTMENT\",   # Encantamento\n",
    "    \"ARTIFACT\",      # Artefato\n",
    "    \"PLANESWALKER\",  # Planinalta\n",
    "    \"LAND\",          # Terreno\n",
    "    \"TRIBAL\",        # Tribal (tipo especial)\n",
    "    # \"SAGA\",          # Saga (tipo especial)\n",
    "    \"BATTLE\",         # Batalha (tipo especial)\n",
    "    'CONSPIRACY',\n",
    "    'SCHEME',\n",
    "    'KINDRED',\n",
    "    'SUMMON',\n",
    "    'VANGUARD',\n",
    "    'PLANE',\n",
    "    'PHENOMENON',\n",
    "    'HERO',\n",
    "    'STICKERS',\n",
    "    'UNIVERSEWALKER',\n",
    "    '34'\n",
    "    \n",
    "    \n",
    "]\n"
   ]
  },
  {
   "cell_type": "code",
   "execution_count": 83,
   "id": "ceb60bb2-fc45-4d18-897a-886495cfb645",
   "metadata": {},
   "outputs": [],
   "source": [
    "\n",
    "types = data_fi['type']\n",
    "types = types.apply(lambda x:x.replace(\"—\",\"\").split())\n"
   ]
  },
  {
   "cell_type": "code",
   "execution_count": 84,
   "id": "6d5ee375-20ac-4500-a91e-c10a5cb1ffac",
   "metadata": {},
   "outputs": [],
   "source": [
    "def crd_type(row):\n",
    "    types = []\n",
    "    for t in row:\n",
    "        if t.upper() in MAGIC_CARD_TYPES:\n",
    "            types.append(t.upper())\n",
    "    if len(types) == 0:\n",
    "        print(row)\n",
    "    return ' '.join(types)"
   ]
  },
  {
   "cell_type": "code",
   "execution_count": 85,
   "id": "ce7b8bc2-4464-4670-95de-64480ab0690b",
   "metadata": {},
   "outputs": [],
   "source": [
    "types = types.apply(crd_type)"
   ]
  },
  {
   "cell_type": "code",
   "execution_count": 86,
   "id": "d924f307-0596-4398-8f79-7fbc929c4d31",
   "metadata": {},
   "outputs": [
    {
     "data": {
      "text/plain": [
       "type\n",
       "CREATURE                40636\n",
       "LAND                    10579\n",
       "SORCERY                 10164\n",
       "INSTANT                 10079\n",
       "ENCHANTMENT              8807\n",
       "ARTIFACT                 7462\n",
       "ARTIFACT CREATURE        2945\n",
       "PLANESWALKER             1523\n",
       "ENCHANTMENT CREATURE      530\n",
       "PLANE                     244\n",
       "VANGUARD                  119\n",
       "ARTIFACT LAND             117\n",
       "SCHEME                     70\n",
       "BATTLE                     52\n",
       "TRIBAL INSTANT             51\n",
       "STICKERS                   48\n",
       "TRIBAL ENCHANTMENT         41\n",
       "TRIBAL SORCERY             35\n",
       "CONSPIRACY                 27\n",
       "PHENOMENON                 25\n",
       "ENCHANTMENT ARTIFACT       18\n",
       "SUMMON                     17\n",
       "HERO                       16\n",
       "TRIBAL ARTIFACT             8\n",
       "LAND CREATURE               7\n",
       "ENCHANTMENT LAND            7\n",
       "HERO ARTIFACT               5\n",
       "INSTANT CREATURE            4\n",
       "KINDRED ENCHANTMENT         2\n",
       "ARTIFACT ENCHANTMENT        2\n",
       "UNIVERSEWALKER              1\n",
       "EATURECRAY                  1\n",
       "CREATURE HERO               1\n",
       "Name: count, dtype: int64"
      ]
     },
     "execution_count": 86,
     "metadata": {},
     "output_type": "execute_result"
    }
   ],
   "source": [
    "types.value_counts()"
   ]
  },
  {
   "cell_type": "code",
   "execution_count": 88,
   "id": "7744f00a-52f4-4a9d-9a03-1431fdc09c68",
   "metadata": {},
   "outputs": [],
   "source": [
    "data_fi.loc[:,'type_cleanned'] = types"
   ]
  },
  {
   "cell_type": "code",
   "execution_count": 222,
   "id": "9e6b0c14-fe25-46d5-b033-741f8065281d",
   "metadata": {},
   "outputs": [
    {
     "data": {
      "text/plain": [
       "Index(['name', 'layout', 'mana_cost', 'cmc', 'colors', 'color_identity',\n",
       "       'type', 'supertypes', 'subtypes', 'rarity', 'artist', 'power',\n",
       "       'toughness', 'loyalty', 'printings', 'original_text', 'legalities',\n",
       "       'set_name', 'type_cleanned'],\n",
       "      dtype='object')"
      ]
     },
     "execution_count": 222,
     "metadata": {},
     "output_type": "execute_result"
    }
   ],
   "source": [
    "data_fi.columns"
   ]
  },
  {
   "cell_type": "code",
   "execution_count": 78,
   "id": "5049b657-dce2-4f54-88e1-fb3935f4df75",
   "metadata": {},
   "outputs": [
    {
     "data": {
      "text/plain": [
       "type\n",
       "Sorcery                                  9823\n",
       "Instant                                  9755\n",
       "Artifact                                 5007\n",
       "Enchantment                              4919\n",
       "Land                                     4913\n",
       "                                         ... \n",
       "Legendary Creature — Spirit Artificer       1\n",
       "Creature — Elemental Spider                 1\n",
       "Legendary Creature — Dinosaur Pirate        1\n",
       "Creature — Goblin Rogue Wizard              1\n",
       "Creature — Plant Rhino                      1\n",
       "Name: count, Length: 3146, dtype: int64"
      ]
     },
     "execution_count": 78,
     "metadata": {},
     "output_type": "execute_result"
    }
   ],
   "source": [
    "data_fi['type'].value_counts()"
   ]
  },
  {
   "cell_type": "code",
   "execution_count": 89,
   "id": "86542eae-322a-4f8f-a6e3-9afc2ae40a7f",
   "metadata": {},
   "outputs": [],
   "source": [
    "data_fi.loc[:,'type_cleanned'] = data_fi['type_cleanned'].str.replace(r'SUMMON','CREATURE',regex=True)"
   ]
  },
  {
   "cell_type": "code",
   "execution_count": 90,
   "id": "7e18481f-9ad5-4aa9-adfe-facb1409531c",
   "metadata": {},
   "outputs": [
    {
     "data": {
      "text/plain": [
       "type\n",
       "Sorcery                                  9823\n",
       "Instant                                  9755\n",
       "Artifact                                 5007\n",
       "Enchantment                              4919\n",
       "Land                                     4913\n",
       "                                         ... \n",
       "Legendary Creature — Spirit Artificer       1\n",
       "Creature — Elemental Spider                 1\n",
       "Legendary Creature — Dinosaur Pirate        1\n",
       "Creature — Goblin Rogue Wizard              1\n",
       "Creature — Plant Rhino                      1\n",
       "Name: count, Length: 3146, dtype: int64"
      ]
     },
     "execution_count": 90,
     "metadata": {},
     "output_type": "execute_result"
    }
   ],
   "source": [
    "data_fi['type'].value_counts()"
   ]
  },
  {
   "cell_type": "markdown",
   "id": "d69e8ae8-94d5-463b-b4e3-06410cf726f8",
   "metadata": {},
   "source": [
    "#### Subtypes"
   ]
  },
  {
   "cell_type": "code",
   "execution_count": 246,
   "id": "b93b443b-da5d-4e1f-94c8-08f54cbbb998",
   "metadata": {},
   "outputs": [
    {
     "data": {
      "text/plain": [
       "np.int64(36009)"
      ]
     },
     "execution_count": 246,
     "metadata": {},
     "output_type": "execute_result"
    }
   ],
   "source": [
    "data_fi['subtypes'].isna().sum()"
   ]
  },
  {
   "cell_type": "code",
   "execution_count": 233,
   "id": "d7cb2949-0dc9-4850-ae5b-4a65ca0cc382",
   "metadata": {},
   "outputs": [
    {
     "data": {
      "text/plain": [
       "array(['SORCERY', 'ENCHANTMENT', 'INSTANT', 'ARTIFACT', 'LAND',\n",
       "       'ARTIFACT LAND', 'ENCHANTMENT ARTIFACT', 'VANGUARD', 'CREATURE',\n",
       "       'ENCHANTMENT LAND', 'PLANESWALKER', 'CONSPIRACY', 'PHENOMENON',\n",
       "       'SCHEME', 'STICKERS', 'HERO'], dtype=object)"
      ]
     },
     "execution_count": 233,
     "metadata": {},
     "output_type": "execute_result"
    }
   ],
   "source": [
    "data_fi[data_fi['subtypes'].isna()]['type_cleanned'].unique()"
   ]
  },
  {
   "cell_type": "code",
   "execution_count": 234,
   "id": "55b94451-2129-408a-b606-daa437660171",
   "metadata": {},
   "outputs": [
    {
     "data": {
      "text/plain": [
       "array([\"['Human', 'Cleric']\", \"['Angel']\", nan, ...,\n",
       "       \"['Ogre', 'Shaman', 'Ally']\", \"['Elf', 'Scout', 'Ranger', 'Ally']\",\n",
       "       \"['Cat', 'Horror']\"], shape=(2376,), dtype=object)"
      ]
     },
     "execution_count": 234,
     "metadata": {},
     "output_type": "execute_result"
    }
   ],
   "source": [
    "data_fi['subtypes'].unique()"
   ]
  },
  {
   "cell_type": "code",
   "execution_count": 235,
   "id": "5ecd2f81-abed-4644-968a-abb6869b59dc",
   "metadata": {},
   "outputs": [],
   "source": [
    "data_fi.loc[:,'subtypes'] = data_fi['subtypes'].str.replace(r'[\\[\\],\\']','',regex=True)"
   ]
  },
  {
   "cell_type": "code",
   "execution_count": 247,
   "id": "234be392-bb87-4031-b8fb-cd7b0d051aef",
   "metadata": {},
   "outputs": [
    {
     "data": {
      "text/plain": [
       "array(['Human Cleric', 'Angel', nan, ..., 'Ogre Shaman Ally',\n",
       "       'Elf Scout Ranger Ally', 'Cat Horror'], shape=(2385,), dtype=object)"
      ]
     },
     "execution_count": 247,
     "metadata": {},
     "output_type": "execute_result"
    }
   ],
   "source": [
    "data_fi['subtypes'].unique()"
   ]
  },
  {
   "cell_type": "code",
   "execution_count": 237,
   "id": "4c3d81f1-242a-4fd3-a1e2-0299276b9fa6",
   "metadata": {},
   "outputs": [],
   "source": [
    "no_subtype = data_fi[data_fi['subtypes'].isna()]"
   ]
  },
  {
   "cell_type": "code",
   "execution_count": 245,
   "id": "8c52a032-96f3-44fd-85e1-d47d73e40500",
   "metadata": {},
   "outputs": [
    {
     "data": {
      "text/html": [
       "<div>\n",
       "<style scoped>\n",
       "    .dataframe tbody tr th:only-of-type {\n",
       "        vertical-align: middle;\n",
       "    }\n",
       "\n",
       "    .dataframe tbody tr th {\n",
       "        vertical-align: top;\n",
       "    }\n",
       "\n",
       "    .dataframe thead th {\n",
       "        text-align: right;\n",
       "    }\n",
       "</style>\n",
       "<table border=\"1\" class=\"dataframe\">\n",
       "  <thead>\n",
       "    <tr style=\"text-align: right;\">\n",
       "      <th></th>\n",
       "      <th>name</th>\n",
       "      <th>type</th>\n",
       "      <th>type_cleanned</th>\n",
       "      <th>subtypes</th>\n",
       "    </tr>\n",
       "  </thead>\n",
       "  <tbody>\n",
       "    <tr>\n",
       "      <th>18934</th>\n",
       "      <td>Throat Wolf</td>\n",
       "      <td>Summon Wolf</td>\n",
       "      <td>CREATURE</td>\n",
       "      <td>NaN</td>\n",
       "    </tr>\n",
       "    <tr>\n",
       "      <th>19059</th>\n",
       "      <td>Throat Wolf</td>\n",
       "      <td>Summon Wolf</td>\n",
       "      <td>CREATURE</td>\n",
       "      <td>NaN</td>\n",
       "    </tr>\n",
       "    <tr>\n",
       "      <th>26435</th>\n",
       "      <td>Nameless Race</td>\n",
       "      <td>Creature</td>\n",
       "      <td>CREATURE</td>\n",
       "      <td>NaN</td>\n",
       "    </tr>\n",
       "    <tr>\n",
       "      <th>56498</th>\n",
       "      <td>Aswan Jaguar</td>\n",
       "      <td>Summon Jaguar</td>\n",
       "      <td>CREATURE</td>\n",
       "      <td>NaN</td>\n",
       "    </tr>\n",
       "    <tr>\n",
       "      <th>56500</th>\n",
       "      <td>Faerie Dragon</td>\n",
       "      <td>Summon Dragon</td>\n",
       "      <td>CREATURE</td>\n",
       "      <td>NaN</td>\n",
       "    </tr>\n",
       "    <tr>\n",
       "      <th>56501</th>\n",
       "      <td>Goblin Polka Band</td>\n",
       "      <td>Summon Goblin</td>\n",
       "      <td>CREATURE</td>\n",
       "      <td>NaN</td>\n",
       "    </tr>\n",
       "    <tr>\n",
       "      <th>56505</th>\n",
       "      <td>Prismatic Dragon</td>\n",
       "      <td>Summon Dragon</td>\n",
       "      <td>CREATURE</td>\n",
       "      <td>NaN</td>\n",
       "    </tr>\n",
       "    <tr>\n",
       "      <th>56506</th>\n",
       "      <td>Rainbow Knights</td>\n",
       "      <td>Summon Knights</td>\n",
       "      <td>CREATURE</td>\n",
       "      <td>NaN</td>\n",
       "    </tr>\n",
       "    <tr>\n",
       "      <th>57125</th>\n",
       "      <td>1996 World Champion</td>\n",
       "      <td>Summon Legend</td>\n",
       "      <td>CREATURE</td>\n",
       "      <td>NaN</td>\n",
       "    </tr>\n",
       "    <tr>\n",
       "      <th>57126</th>\n",
       "      <td>Shichifukujin Dragon</td>\n",
       "      <td>Summon Dragon</td>\n",
       "      <td>CREATURE</td>\n",
       "      <td>NaN</td>\n",
       "    </tr>\n",
       "    <tr>\n",
       "      <th>66119</th>\n",
       "      <td>Aswan Jaguar</td>\n",
       "      <td>Summon Jaguar</td>\n",
       "      <td>CREATURE</td>\n",
       "      <td>NaN</td>\n",
       "    </tr>\n",
       "    <tr>\n",
       "      <th>85083</th>\n",
       "      <td>B.F.M. (Big Furry Monster)</td>\n",
       "      <td>Scariest Creature You'll Ever See</td>\n",
       "      <td>CREATURE</td>\n",
       "      <td>NaN</td>\n",
       "    </tr>\n",
       "    <tr>\n",
       "      <th>85330</th>\n",
       "      <td>Dr. Julius Jumblemorph</td>\n",
       "      <td>Legendary Creature</td>\n",
       "      <td>CREATURE</td>\n",
       "      <td>NaN</td>\n",
       "    </tr>\n",
       "    <tr>\n",
       "      <th>86561</th>\n",
       "      <td>Dr. Julius Jumblemorph</td>\n",
       "      <td>Legendary Creature</td>\n",
       "      <td>CREATURE</td>\n",
       "      <td>NaN</td>\n",
       "    </tr>\n",
       "    <tr>\n",
       "      <th>87104</th>\n",
       "      <td>Dr. Julius Jumblemorph</td>\n",
       "      <td>Legendary Creature</td>\n",
       "      <td>CREATURE</td>\n",
       "      <td>NaN</td>\n",
       "    </tr>\n",
       "  </tbody>\n",
       "</table>\n",
       "</div>"
      ],
      "text/plain": [
       "                             name                               type  \\\n",
       "18934                 Throat Wolf                        Summon Wolf   \n",
       "19059                 Throat Wolf                        Summon Wolf   \n",
       "26435               Nameless Race                           Creature   \n",
       "56498                Aswan Jaguar                      Summon Jaguar   \n",
       "56500               Faerie Dragon                      Summon Dragon   \n",
       "56501           Goblin Polka Band                      Summon Goblin   \n",
       "56505            Prismatic Dragon                      Summon Dragon   \n",
       "56506             Rainbow Knights                     Summon Knights   \n",
       "57125         1996 World Champion                      Summon Legend   \n",
       "57126        Shichifukujin Dragon                      Summon Dragon   \n",
       "66119                Aswan Jaguar                      Summon Jaguar   \n",
       "85083  B.F.M. (Big Furry Monster)  Scariest Creature You'll Ever See   \n",
       "85330      Dr. Julius Jumblemorph                 Legendary Creature   \n",
       "86561      Dr. Julius Jumblemorph                 Legendary Creature   \n",
       "87104      Dr. Julius Jumblemorph                 Legendary Creature   \n",
       "\n",
       "      type_cleanned subtypes  \n",
       "18934      CREATURE      NaN  \n",
       "19059      CREATURE      NaN  \n",
       "26435      CREATURE      NaN  \n",
       "56498      CREATURE      NaN  \n",
       "56500      CREATURE      NaN  \n",
       "56501      CREATURE      NaN  \n",
       "56505      CREATURE      NaN  \n",
       "56506      CREATURE      NaN  \n",
       "57125      CREATURE      NaN  \n",
       "57126      CREATURE      NaN  \n",
       "66119      CREATURE      NaN  \n",
       "85083      CREATURE      NaN  \n",
       "85330      CREATURE      NaN  \n",
       "86561      CREATURE      NaN  \n",
       "87104      CREATURE      NaN  "
      ]
     },
     "execution_count": 245,
     "metadata": {},
     "output_type": "execute_result"
    }
   ],
   "source": [
    "no_subtype[no_subtype['type_cleanned']=='CREATURE'][['name','type','type_cleanned','subtypes']]"
   ]
  },
  {
   "cell_type": "code",
   "execution_count": 259,
   "id": "35a2ceb9-0731-4d8d-a2a0-cc60827698d3",
   "metadata": {},
   "outputs": [],
   "source": [
    "data_fi.loc[data_fi['type_cleanned']=='CREATURE','subtypes'] = data_fi.loc[data_fi['type_cleanned']=='CREATURE','subtypes'].fillna(data_fi['type'].str.split('Summon').str[-1])"
   ]
  },
  {
   "cell_type": "code",
   "execution_count": 262,
   "id": "2003cde3-76d4-464f-9743-308293e39356",
   "metadata": {},
   "outputs": [
    {
     "data": {
      "text/html": [
       "<div>\n",
       "<style scoped>\n",
       "    .dataframe tbody tr th:only-of-type {\n",
       "        vertical-align: middle;\n",
       "    }\n",
       "\n",
       "    .dataframe tbody tr th {\n",
       "        vertical-align: top;\n",
       "    }\n",
       "\n",
       "    .dataframe thead th {\n",
       "        text-align: right;\n",
       "    }\n",
       "</style>\n",
       "<table border=\"1\" class=\"dataframe\">\n",
       "  <thead>\n",
       "    <tr style=\"text-align: right;\">\n",
       "      <th></th>\n",
       "      <th>name</th>\n",
       "      <th>layout</th>\n",
       "      <th>mana_cost</th>\n",
       "      <th>cmc</th>\n",
       "      <th>colors</th>\n",
       "      <th>color_identity</th>\n",
       "      <th>type</th>\n",
       "      <th>supertypes</th>\n",
       "      <th>subtypes</th>\n",
       "      <th>rarity</th>\n",
       "      <th>artist</th>\n",
       "      <th>power</th>\n",
       "      <th>toughness</th>\n",
       "      <th>loyalty</th>\n",
       "      <th>printings</th>\n",
       "      <th>original_text</th>\n",
       "      <th>legalities</th>\n",
       "      <th>set_name</th>\n",
       "      <th>type_cleanned</th>\n",
       "    </tr>\n",
       "  </thead>\n",
       "  <tbody>\n",
       "    <tr>\n",
       "      <th>85330</th>\n",
       "      <td>Dr. Julius Jumblemorph</td>\n",
       "      <td>normal</td>\n",
       "      <td>{2}{G}{W}</td>\n",
       "      <td>4.0</td>\n",
       "      <td>['G', 'W']</td>\n",
       "      <td>['G', 'W']</td>\n",
       "      <td>Legendary Creature</td>\n",
       "      <td>['Legendary']</td>\n",
       "      <td>NaN</td>\n",
       "      <td>Mythic</td>\n",
       "      <td>Simon Dominic</td>\n",
       "      <td>4</td>\n",
       "      <td>4</td>\n",
       "      <td>NaN</td>\n",
       "      <td>['ULST', 'UST']</td>\n",
       "      <td>NaN</td>\n",
       "      <td>NaN</td>\n",
       "      <td>The List (Unfinity Foil Edition)</td>\n",
       "      <td>CREATURE</td>\n",
       "    </tr>\n",
       "    <tr>\n",
       "      <th>86561</th>\n",
       "      <td>Dr. Julius Jumblemorph</td>\n",
       "      <td>normal</td>\n",
       "      <td>{2}{G}{W}</td>\n",
       "      <td>4.0</td>\n",
       "      <td>['G', 'W']</td>\n",
       "      <td>['G', 'W']</td>\n",
       "      <td>Legendary Creature</td>\n",
       "      <td>['Legendary']</td>\n",
       "      <td>NaN</td>\n",
       "      <td>Mythic</td>\n",
       "      <td>Simon Dominic</td>\n",
       "      <td>4</td>\n",
       "      <td>4</td>\n",
       "      <td>NaN</td>\n",
       "      <td>['UPLIST', 'UST']</td>\n",
       "      <td>NaN</td>\n",
       "      <td>NaN</td>\n",
       "      <td>The List (Unfinity Foil Edition)</td>\n",
       "      <td>CREATURE</td>\n",
       "    </tr>\n",
       "    <tr>\n",
       "      <th>87104</th>\n",
       "      <td>Dr. Julius Jumblemorph</td>\n",
       "      <td>normal</td>\n",
       "      <td>{2}{G}{W}</td>\n",
       "      <td>4.0</td>\n",
       "      <td>['G', 'W']</td>\n",
       "      <td>['G', 'W']</td>\n",
       "      <td>Legendary Creature</td>\n",
       "      <td>['Legendary']</td>\n",
       "      <td>NaN</td>\n",
       "      <td>Mythic</td>\n",
       "      <td>Simon Dominic</td>\n",
       "      <td>4</td>\n",
       "      <td>4</td>\n",
       "      <td>NaN</td>\n",
       "      <td>['ULST', 'UST']</td>\n",
       "      <td>Dr. Julius Jumblemorph is every creature type ...</td>\n",
       "      <td>NaN</td>\n",
       "      <td>Unstable</td>\n",
       "      <td>CREATURE</td>\n",
       "    </tr>\n",
       "  </tbody>\n",
       "</table>\n",
       "</div>"
      ],
      "text/plain": [
       "                         name  layout  mana_cost  cmc      colors  \\\n",
       "85330  Dr. Julius Jumblemorph  normal  {2}{G}{W}  4.0  ['G', 'W']   \n",
       "86561  Dr. Julius Jumblemorph  normal  {2}{G}{W}  4.0  ['G', 'W']   \n",
       "87104  Dr. Julius Jumblemorph  normal  {2}{G}{W}  4.0  ['G', 'W']   \n",
       "\n",
       "      color_identity                type     supertypes subtypes  rarity  \\\n",
       "85330     ['G', 'W']  Legendary Creature  ['Legendary']      NaN  Mythic   \n",
       "86561     ['G', 'W']  Legendary Creature  ['Legendary']      NaN  Mythic   \n",
       "87104     ['G', 'W']  Legendary Creature  ['Legendary']      NaN  Mythic   \n",
       "\n",
       "              artist power toughness loyalty          printings  \\\n",
       "85330  Simon Dominic     4         4     NaN    ['ULST', 'UST']   \n",
       "86561  Simon Dominic     4         4     NaN  ['UPLIST', 'UST']   \n",
       "87104  Simon Dominic     4         4     NaN    ['ULST', 'UST']   \n",
       "\n",
       "                                           original_text legalities  \\\n",
       "85330                                                NaN        NaN   \n",
       "86561                                                NaN        NaN   \n",
       "87104  Dr. Julius Jumblemorph is every creature type ...        NaN   \n",
       "\n",
       "                               set_name type_cleanned  \n",
       "85330  The List (Unfinity Foil Edition)      CREATURE  \n",
       "86561  The List (Unfinity Foil Edition)      CREATURE  \n",
       "87104                          Unstable      CREATURE  "
      ]
     },
     "execution_count": 262,
     "metadata": {},
     "output_type": "execute_result"
    }
   ],
   "source": [
    "data_fi[data_fi['name']=='Dr. Julius Jumblemorph']"
   ]
  },
  {
   "cell_type": "code",
   "execution_count": 261,
   "id": "2c0089d4-440e-4ffd-9f6a-a44fe37ff7ea",
   "metadata": {},
   "outputs": [],
   "source": [
    "data_fi.loc[data_fi['subtypes']=='Legendary Creature','subtypes'] = np.nan"
   ]
  },
  {
   "cell_type": "code",
   "execution_count": 263,
   "id": "b940cb94-7880-495d-a5ba-8ffd51fac82e",
   "metadata": {},
   "outputs": [],
   "source": [
    "data_fi.loc[:,'subtypes'] = data_fi['subtypes'].str.replace(r'[\\[\\],\\']','',regex=True)"
   ]
  },
  {
   "cell_type": "code",
   "execution_count": 264,
   "id": "77de07a7-7714-4dd6-aeab-3e579508d62a",
   "metadata": {},
   "outputs": [
    {
     "data": {
      "text/plain": [
       "0         Human Cleric\n",
       "1         Human Cleric\n",
       "2                Angel\n",
       "3                Angel\n",
       "4                  NaN\n",
       "             ...      \n",
       "93638              NaN\n",
       "93639              NaN\n",
       "93640              NaN\n",
       "93641              NaN\n",
       "93642    Human Warrior\n",
       "Name: subtypes, Length: 93643, dtype: object"
      ]
     },
     "execution_count": 264,
     "metadata": {},
     "output_type": "execute_result"
    }
   ],
   "source": [
    "data_fi['subtypes']"
   ]
  },
  {
   "cell_type": "code",
   "execution_count": 265,
   "id": "15b9256c-2ad5-405e-95ca-c9f3ee1dab65",
   "metadata": {},
   "outputs": [
    {
     "data": {
      "text/plain": [
       "array(['Human Cleric', 'Angel', nan, ..., 'Ogre Shaman Ally',\n",
       "       'Elf Scout Ranger Ally', 'Cat Horror'], shape=(2384,), dtype=object)"
      ]
     },
     "execution_count": 265,
     "metadata": {},
     "output_type": "execute_result"
    }
   ],
   "source": [
    "data_fi['subtypes'].unique()"
   ]
  },
  {
   "cell_type": "markdown",
   "id": "a71a5fde-94f6-42cd-882a-7b22af2089dd",
   "metadata": {},
   "source": [
    "#### Supertypes"
   ]
  },
  {
   "cell_type": "code",
   "execution_count": 266,
   "id": "38f5a187-ee0d-4595-b195-7e21e8c91ae3",
   "metadata": {},
   "outputs": [
    {
     "data": {
      "text/plain": [
       "np.int64(77065)"
      ]
     },
     "execution_count": 266,
     "metadata": {},
     "output_type": "execute_result"
    }
   ],
   "source": [
    "data_fi['supertypes'].isna().sum()"
   ]
  },
  {
   "cell_type": "code",
   "execution_count": 267,
   "id": "ad3257c6-5b68-45d4-a446-31a4939d2f29",
   "metadata": {},
   "outputs": [
    {
     "data": {
      "text/plain": [
       "array([nan, \"['Legendary']\", \"['Basic']\", \"['World']\", \"['Snow']\",\n",
       "       \"['Legendary', 'Snow']\", \"['Basic', 'Snow']\", \"['Ongoing']\",\n",
       "       \"['Host']\"], dtype=object)"
      ]
     },
     "execution_count": 267,
     "metadata": {},
     "output_type": "execute_result"
    }
   ],
   "source": [
    "data_fi['supertypes'].unique()"
   ]
  },
  {
   "cell_type": "code",
   "execution_count": 268,
   "id": "72888efa-03f2-4574-8112-3c189e408ce4",
   "metadata": {},
   "outputs": [],
   "source": [
    "data_fi.loc[:,'supertypes'] = data_fi['supertypes'].str.replace(r'[\\[\\],\\']','',regex=True)"
   ]
  },
  {
   "cell_type": "code",
   "execution_count": 269,
   "id": "185efcb4-83e3-41ae-8706-8f1ceccd709b",
   "metadata": {},
   "outputs": [
    {
     "data": {
      "text/plain": [
       "array([nan, 'Legendary', 'Basic', 'World', 'Snow', 'Legendary Snow',\n",
       "       'Basic Snow', 'Ongoing', 'Host'], dtype=object)"
      ]
     },
     "execution_count": 269,
     "metadata": {},
     "output_type": "execute_result"
    }
   ],
   "source": [
    "data_fi['supertypes'].unique()"
   ]
  },
  {
   "cell_type": "code",
   "execution_count": null,
   "id": "493417d7-f105-4210-b833-2e00e919c4a4",
   "metadata": {},
   "outputs": [],
   "source": [
    "#### "
   ]
  }
 ],
 "metadata": {
  "kernelspec": {
   "display_name": "Python 3 (ipykernel)",
   "language": "python",
   "name": "python3"
  },
  "language_info": {
   "codemirror_mode": {
    "name": "ipython",
    "version": 3
   },
   "file_extension": ".py",
   "mimetype": "text/x-python",
   "name": "python",
   "nbconvert_exporter": "python",
   "pygments_lexer": "ipython3",
   "version": "3.11.11"
  }
 },
 "nbformat": 4,
 "nbformat_minor": 5
}
